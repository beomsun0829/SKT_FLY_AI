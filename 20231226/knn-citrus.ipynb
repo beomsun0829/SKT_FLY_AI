{
 "cells": [
  {
   "cell_type": "code",
   "execution_count": 652,
   "metadata": {},
   "outputs": [],
   "source": [
    "import pandas as pd\n",
    "import numpy as np\n",
    "import seaborn as sns\n",
    "import matplotlib.pyplot as plt"
   ]
  },
  {
   "cell_type": "code",
   "execution_count": 621,
   "metadata": {},
   "outputs": [],
   "source": [
    "df = pd.read_csv(\"./citrus.csv\")"
   ]
  },
  {
   "cell_type": "code",
   "execution_count": 622,
   "metadata": {},
   "outputs": [
    {
     "name": "stdout",
     "output_type": "stream",
     "text": [
      "10000\n"
     ]
    },
    {
     "data": {
      "text/html": [
       "<div>\n",
       "<style scoped>\n",
       "    .dataframe tbody tr th:only-of-type {\n",
       "        vertical-align: middle;\n",
       "    }\n",
       "\n",
       "    .dataframe tbody tr th {\n",
       "        vertical-align: top;\n",
       "    }\n",
       "\n",
       "    .dataframe thead th {\n",
       "        text-align: right;\n",
       "    }\n",
       "</style>\n",
       "<table border=\"1\" class=\"dataframe\">\n",
       "  <thead>\n",
       "    <tr style=\"text-align: right;\">\n",
       "      <th></th>\n",
       "      <th>name</th>\n",
       "      <th>diameter</th>\n",
       "      <th>weight</th>\n",
       "      <th>red</th>\n",
       "      <th>green</th>\n",
       "      <th>blue</th>\n",
       "    </tr>\n",
       "  </thead>\n",
       "  <tbody>\n",
       "    <tr>\n",
       "      <th>0</th>\n",
       "      <td>orange</td>\n",
       "      <td>2.96</td>\n",
       "      <td>86.76</td>\n",
       "      <td>172</td>\n",
       "      <td>85</td>\n",
       "      <td>2</td>\n",
       "    </tr>\n",
       "    <tr>\n",
       "      <th>1</th>\n",
       "      <td>orange</td>\n",
       "      <td>3.91</td>\n",
       "      <td>88.05</td>\n",
       "      <td>166</td>\n",
       "      <td>78</td>\n",
       "      <td>3</td>\n",
       "    </tr>\n",
       "    <tr>\n",
       "      <th>2</th>\n",
       "      <td>orange</td>\n",
       "      <td>4.42</td>\n",
       "      <td>95.17</td>\n",
       "      <td>156</td>\n",
       "      <td>81</td>\n",
       "      <td>2</td>\n",
       "    </tr>\n",
       "    <tr>\n",
       "      <th>3</th>\n",
       "      <td>orange</td>\n",
       "      <td>4.47</td>\n",
       "      <td>95.60</td>\n",
       "      <td>163</td>\n",
       "      <td>81</td>\n",
       "      <td>4</td>\n",
       "    </tr>\n",
       "    <tr>\n",
       "      <th>4</th>\n",
       "      <td>orange</td>\n",
       "      <td>4.48</td>\n",
       "      <td>95.76</td>\n",
       "      <td>161</td>\n",
       "      <td>72</td>\n",
       "      <td>9</td>\n",
       "    </tr>\n",
       "  </tbody>\n",
       "</table>\n",
       "</div>"
      ],
      "text/plain": [
       "     name  diameter  weight  red  green  blue\n",
       "0  orange      2.96   86.76  172     85     2\n",
       "1  orange      3.91   88.05  166     78     3\n",
       "2  orange      4.42   95.17  156     81     2\n",
       "3  orange      4.47   95.60  163     81     4\n",
       "4  orange      4.48   95.76  161     72     9"
      ]
     },
     "execution_count": 622,
     "metadata": {},
     "output_type": "execute_result"
    }
   ],
   "source": [
    "print(len(df))\n",
    "df.head()"
   ]
  },
  {
   "cell_type": "code",
   "execution_count": 623,
   "metadata": {},
   "outputs": [
    {
     "data": {
      "text/html": [
       "<div>\n",
       "<style scoped>\n",
       "    .dataframe tbody tr th:only-of-type {\n",
       "        vertical-align: middle;\n",
       "    }\n",
       "\n",
       "    .dataframe tbody tr th {\n",
       "        vertical-align: top;\n",
       "    }\n",
       "\n",
       "    .dataframe thead th {\n",
       "        text-align: right;\n",
       "    }\n",
       "</style>\n",
       "<table border=\"1\" class=\"dataframe\">\n",
       "  <thead>\n",
       "    <tr style=\"text-align: right;\">\n",
       "      <th></th>\n",
       "      <th>name</th>\n",
       "      <th>diameter</th>\n",
       "      <th>weight</th>\n",
       "      <th>red</th>\n",
       "      <th>green</th>\n",
       "      <th>blue</th>\n",
       "    </tr>\n",
       "  </thead>\n",
       "  <tbody>\n",
       "    <tr>\n",
       "      <th>7509</th>\n",
       "      <td>grapefruit</td>\n",
       "      <td>11.45</td>\n",
       "      <td>197.52</td>\n",
       "      <td>142</td>\n",
       "      <td>65</td>\n",
       "      <td>15</td>\n",
       "    </tr>\n",
       "    <tr>\n",
       "      <th>6802</th>\n",
       "      <td>grapefruit</td>\n",
       "      <td>11.02</td>\n",
       "      <td>190.51</td>\n",
       "      <td>161</td>\n",
       "      <td>80</td>\n",
       "      <td>16</td>\n",
       "    </tr>\n",
       "    <tr>\n",
       "      <th>3983</th>\n",
       "      <td>orange</td>\n",
       "      <td>9.51</td>\n",
       "      <td>168.65</td>\n",
       "      <td>171</td>\n",
       "      <td>70</td>\n",
       "      <td>18</td>\n",
       "    </tr>\n",
       "    <tr>\n",
       "      <th>3056</th>\n",
       "      <td>orange</td>\n",
       "      <td>8.82</td>\n",
       "      <td>157.87</td>\n",
       "      <td>164</td>\n",
       "      <td>81</td>\n",
       "      <td>12</td>\n",
       "    </tr>\n",
       "    <tr>\n",
       "      <th>6241</th>\n",
       "      <td>grapefruit</td>\n",
       "      <td>10.66</td>\n",
       "      <td>184.27</td>\n",
       "      <td>156</td>\n",
       "      <td>65</td>\n",
       "      <td>18</td>\n",
       "    </tr>\n",
       "    <tr>\n",
       "      <th>...</th>\n",
       "      <td>...</td>\n",
       "      <td>...</td>\n",
       "      <td>...</td>\n",
       "      <td>...</td>\n",
       "      <td>...</td>\n",
       "      <td>...</td>\n",
       "    </tr>\n",
       "    <tr>\n",
       "      <th>8801</th>\n",
       "      <td>grapefruit</td>\n",
       "      <td>12.37</td>\n",
       "      <td>210.82</td>\n",
       "      <td>134</td>\n",
       "      <td>64</td>\n",
       "      <td>18</td>\n",
       "    </tr>\n",
       "    <tr>\n",
       "      <th>8476</th>\n",
       "      <td>grapefruit</td>\n",
       "      <td>12.11</td>\n",
       "      <td>207.17</td>\n",
       "      <td>135</td>\n",
       "      <td>65</td>\n",
       "      <td>8</td>\n",
       "    </tr>\n",
       "    <tr>\n",
       "      <th>5093</th>\n",
       "      <td>grapefruit</td>\n",
       "      <td>9.03</td>\n",
       "      <td>156.92</td>\n",
       "      <td>152</td>\n",
       "      <td>68</td>\n",
       "      <td>15</td>\n",
       "    </tr>\n",
       "    <tr>\n",
       "      <th>7025</th>\n",
       "      <td>grapefruit</td>\n",
       "      <td>11.16</td>\n",
       "      <td>192.68</td>\n",
       "      <td>151</td>\n",
       "      <td>68</td>\n",
       "      <td>27</td>\n",
       "    </tr>\n",
       "    <tr>\n",
       "      <th>7859</th>\n",
       "      <td>grapefruit</td>\n",
       "      <td>11.68</td>\n",
       "      <td>200.93</td>\n",
       "      <td>145</td>\n",
       "      <td>67</td>\n",
       "      <td>2</td>\n",
       "    </tr>\n",
       "  </tbody>\n",
       "</table>\n",
       "<p>10000 rows × 6 columns</p>\n",
       "</div>"
      ],
      "text/plain": [
       "            name  diameter  weight  red  green  blue\n",
       "7509  grapefruit     11.45  197.52  142     65    15\n",
       "6802  grapefruit     11.02  190.51  161     80    16\n",
       "3983      orange      9.51  168.65  171     70    18\n",
       "3056      orange      8.82  157.87  164     81    12\n",
       "6241  grapefruit     10.66  184.27  156     65    18\n",
       "...          ...       ...     ...  ...    ...   ...\n",
       "8801  grapefruit     12.37  210.82  134     64    18\n",
       "8476  grapefruit     12.11  207.17  135     65     8\n",
       "5093  grapefruit      9.03  156.92  152     68    15\n",
       "7025  grapefruit     11.16  192.68  151     68    27\n",
       "7859  grapefruit     11.68  200.93  145     67     2\n",
       "\n",
       "[10000 rows x 6 columns]"
      ]
     },
     "execution_count": 623,
     "metadata": {},
     "output_type": "execute_result"
    }
   ],
   "source": [
    "df = df.sample(frac=1)\n",
    "df"
   ]
  },
  {
   "cell_type": "code",
   "execution_count": 624,
   "metadata": {},
   "outputs": [
    {
     "data": {
      "text/plain": [
       "7509    grapefruit\n",
       "6802    grapefruit\n",
       "3983        orange\n",
       "3056        orange\n",
       "6241    grapefruit\n",
       "Name: name, dtype: object"
      ]
     },
     "execution_count": 624,
     "metadata": {},
     "output_type": "execute_result"
    }
   ],
   "source": [
    "y = df['name']\n",
    "y.head()"
   ]
  },
  {
   "cell_type": "code",
   "execution_count": 625,
   "metadata": {},
   "outputs": [
    {
     "data": {
      "text/plain": [
       "Index(['name', 'diameter', 'weight', 'red', 'green', 'blue'], dtype='object')"
      ]
     },
     "execution_count": 625,
     "metadata": {},
     "output_type": "execute_result"
    }
   ],
   "source": [
    "df.columns"
   ]
  },
  {
   "cell_type": "code",
   "execution_count": 626,
   "metadata": {},
   "outputs": [
    {
     "data": {
      "text/html": [
       "<div>\n",
       "<style scoped>\n",
       "    .dataframe tbody tr th:only-of-type {\n",
       "        vertical-align: middle;\n",
       "    }\n",
       "\n",
       "    .dataframe tbody tr th {\n",
       "        vertical-align: top;\n",
       "    }\n",
       "\n",
       "    .dataframe thead th {\n",
       "        text-align: right;\n",
       "    }\n",
       "</style>\n",
       "<table border=\"1\" class=\"dataframe\">\n",
       "  <thead>\n",
       "    <tr style=\"text-align: right;\">\n",
       "      <th></th>\n",
       "      <th>diameter</th>\n",
       "      <th>weight</th>\n",
       "      <th>red</th>\n",
       "      <th>green</th>\n",
       "      <th>blue</th>\n",
       "    </tr>\n",
       "  </thead>\n",
       "  <tbody>\n",
       "    <tr>\n",
       "      <th>7509</th>\n",
       "      <td>11.45</td>\n",
       "      <td>197.52</td>\n",
       "      <td>142</td>\n",
       "      <td>65</td>\n",
       "      <td>15</td>\n",
       "    </tr>\n",
       "    <tr>\n",
       "      <th>6802</th>\n",
       "      <td>11.02</td>\n",
       "      <td>190.51</td>\n",
       "      <td>161</td>\n",
       "      <td>80</td>\n",
       "      <td>16</td>\n",
       "    </tr>\n",
       "    <tr>\n",
       "      <th>3983</th>\n",
       "      <td>9.51</td>\n",
       "      <td>168.65</td>\n",
       "      <td>171</td>\n",
       "      <td>70</td>\n",
       "      <td>18</td>\n",
       "    </tr>\n",
       "    <tr>\n",
       "      <th>3056</th>\n",
       "      <td>8.82</td>\n",
       "      <td>157.87</td>\n",
       "      <td>164</td>\n",
       "      <td>81</td>\n",
       "      <td>12</td>\n",
       "    </tr>\n",
       "    <tr>\n",
       "      <th>6241</th>\n",
       "      <td>10.66</td>\n",
       "      <td>184.27</td>\n",
       "      <td>156</td>\n",
       "      <td>65</td>\n",
       "      <td>18</td>\n",
       "    </tr>\n",
       "    <tr>\n",
       "      <th>...</th>\n",
       "      <td>...</td>\n",
       "      <td>...</td>\n",
       "      <td>...</td>\n",
       "      <td>...</td>\n",
       "      <td>...</td>\n",
       "    </tr>\n",
       "    <tr>\n",
       "      <th>8801</th>\n",
       "      <td>12.37</td>\n",
       "      <td>210.82</td>\n",
       "      <td>134</td>\n",
       "      <td>64</td>\n",
       "      <td>18</td>\n",
       "    </tr>\n",
       "    <tr>\n",
       "      <th>8476</th>\n",
       "      <td>12.11</td>\n",
       "      <td>207.17</td>\n",
       "      <td>135</td>\n",
       "      <td>65</td>\n",
       "      <td>8</td>\n",
       "    </tr>\n",
       "    <tr>\n",
       "      <th>5093</th>\n",
       "      <td>9.03</td>\n",
       "      <td>156.92</td>\n",
       "      <td>152</td>\n",
       "      <td>68</td>\n",
       "      <td>15</td>\n",
       "    </tr>\n",
       "    <tr>\n",
       "      <th>7025</th>\n",
       "      <td>11.16</td>\n",
       "      <td>192.68</td>\n",
       "      <td>151</td>\n",
       "      <td>68</td>\n",
       "      <td>27</td>\n",
       "    </tr>\n",
       "    <tr>\n",
       "      <th>7859</th>\n",
       "      <td>11.68</td>\n",
       "      <td>200.93</td>\n",
       "      <td>145</td>\n",
       "      <td>67</td>\n",
       "      <td>2</td>\n",
       "    </tr>\n",
       "  </tbody>\n",
       "</table>\n",
       "<p>10000 rows × 5 columns</p>\n",
       "</div>"
      ],
      "text/plain": [
       "      diameter  weight  red  green  blue\n",
       "7509     11.45  197.52  142     65    15\n",
       "6802     11.02  190.51  161     80    16\n",
       "3983      9.51  168.65  171     70    18\n",
       "3056      8.82  157.87  164     81    12\n",
       "6241     10.66  184.27  156     65    18\n",
       "...        ...     ...  ...    ...   ...\n",
       "8801     12.37  210.82  134     64    18\n",
       "8476     12.11  207.17  135     65     8\n",
       "5093      9.03  156.92  152     68    15\n",
       "7025     11.16  192.68  151     68    27\n",
       "7859     11.68  200.93  145     67     2\n",
       "\n",
       "[10000 rows x 5 columns]"
      ]
     },
     "execution_count": 626,
     "metadata": {},
     "output_type": "execute_result"
    }
   ],
   "source": [
    "X = df[['diameter', 'weight', 'red', 'green', 'blue']]\n",
    "X"
   ]
  },
  {
   "cell_type": "code",
   "execution_count": 627,
   "metadata": {},
   "outputs": [
    {
     "name": "stdout",
     "output_type": "stream",
     "text": [
      "(10000, 5)\n",
      "(10000,)\n"
     ]
    }
   ],
   "source": [
    "print(X.shape)\n",
    "print(y.shape)"
   ]
  },
  {
   "cell_type": "code",
   "execution_count": 628,
   "metadata": {},
   "outputs": [
    {
     "name": "stdout",
     "output_type": "stream",
     "text": [
      "8000\n"
     ]
    }
   ],
   "source": [
    "# 테스트 데이터 분리 (dataframe 슬라이싱 기능 이용)\n",
    "\n",
    "idx = int(len(X) * 0.8)\n",
    "print(idx)"
   ]
  },
  {
   "cell_type": "code",
   "execution_count": 629,
   "metadata": {},
   "outputs": [
    {
     "name": "stdout",
     "output_type": "stream",
     "text": [
      "(8000, 5) (2000, 5)\n"
     ]
    }
   ],
   "source": [
    "X_train = X.iloc[:idx]\n",
    "X_test = X.iloc[idx:]\n",
    "\n",
    "print(X_train.shape, X_test.shape)"
   ]
  },
  {
   "cell_type": "code",
   "execution_count": 630,
   "metadata": {},
   "outputs": [
    {
     "name": "stdout",
     "output_type": "stream",
     "text": [
      "(8000,) (2000,)\n"
     ]
    }
   ],
   "source": [
    "y_train = y.iloc[:idx]\n",
    "y_test = y.iloc[idx:]\n",
    "\n",
    "print(y_train.shape, y_test.shape)"
   ]
  },
  {
   "cell_type": "code",
   "execution_count": 631,
   "metadata": {},
   "outputs": [
    {
     "name": "stderr",
     "output_type": "stream",
     "text": [
      "C:\\Users\\2023-PC(T)-8\\AppData\\Local\\Temp\\ipykernel_4604\\3084147775.py:14: SettingWithCopyWarning: \n",
      "A value is trying to be set on a copy of a slice from a DataFrame.\n",
      "Try using .loc[row_indexer,col_indexer] = value instead\n",
      "\n",
      "See the caveats in the documentation: https://pandas.pydata.org/pandas-docs/stable/user_guide/indexing.html#returning-a-view-versus-a-copy\n",
      "  X_train[idx] = (X_train[idx] - u) / std\n"
     ]
    }
   ],
   "source": [
    "x_idx = ['diameter', 'weight', 'red', 'green', 'blue']\n",
    "u_list = []\n",
    "std_list = []\n",
    "\n",
    "for idx in x_idx:\n",
    "    # 평균이 0, 표준편차가 1인 정규분포\n",
    "    u = X_train[idx].mean()\n",
    "    std = X_train[idx].std()\n",
    "\n",
    "    u_list.append(u)\n",
    "    std_list.append(std)\n",
    "\n",
    "    # u, std는 가지고있어야함 !! (test data, real input이 들어왔을때 이걸로 정규화 해야함)\n",
    "    X_train[idx] = (X_train[idx] - u) / std"
   ]
  },
  {
   "cell_type": "code",
   "execution_count": 632,
   "metadata": {},
   "outputs": [
    {
     "name": "stdout",
     "output_type": "stream",
     "text": [
      "[9.97244125, 175.00659875, 153.93875, 76.00775, 11.370125]\n",
      "[1.9476167754942082, 29.203038917709403, 10.521196955939615, 11.741163562557363, 9.083223304674085]\n"
     ]
    },
    {
     "data": {
      "text/html": [
       "<div>\n",
       "<style scoped>\n",
       "    .dataframe tbody tr th:only-of-type {\n",
       "        vertical-align: middle;\n",
       "    }\n",
       "\n",
       "    .dataframe tbody tr th {\n",
       "        vertical-align: top;\n",
       "    }\n",
       "\n",
       "    .dataframe thead th {\n",
       "        text-align: right;\n",
       "    }\n",
       "</style>\n",
       "<table border=\"1\" class=\"dataframe\">\n",
       "  <thead>\n",
       "    <tr style=\"text-align: right;\">\n",
       "      <th></th>\n",
       "      <th>diameter</th>\n",
       "      <th>weight</th>\n",
       "      <th>red</th>\n",
       "      <th>green</th>\n",
       "      <th>blue</th>\n",
       "    </tr>\n",
       "  </thead>\n",
       "  <tbody>\n",
       "    <tr>\n",
       "      <th>7509</th>\n",
       "      <td>0.758650</td>\n",
       "      <td>0.770927</td>\n",
       "      <td>-1.134733</td>\n",
       "      <td>-0.937535</td>\n",
       "      <td>0.399624</td>\n",
       "    </tr>\n",
       "    <tr>\n",
       "      <th>6802</th>\n",
       "      <td>0.537867</td>\n",
       "      <td>0.530883</td>\n",
       "      <td>0.671145</td>\n",
       "      <td>0.340022</td>\n",
       "      <td>0.509717</td>\n",
       "    </tr>\n",
       "    <tr>\n",
       "      <th>3983</th>\n",
       "      <td>-0.237440</td>\n",
       "      <td>-0.217669</td>\n",
       "      <td>1.621607</td>\n",
       "      <td>-0.511683</td>\n",
       "      <td>0.729903</td>\n",
       "    </tr>\n",
       "    <tr>\n",
       "      <th>3056</th>\n",
       "      <td>-0.591719</td>\n",
       "      <td>-0.586809</td>\n",
       "      <td>0.956284</td>\n",
       "      <td>0.425192</td>\n",
       "      <td>0.069345</td>\n",
       "    </tr>\n",
       "    <tr>\n",
       "      <th>6241</th>\n",
       "      <td>0.353026</td>\n",
       "      <td>0.317207</td>\n",
       "      <td>0.195914</td>\n",
       "      <td>-0.937535</td>\n",
       "      <td>0.729903</td>\n",
       "    </tr>\n",
       "  </tbody>\n",
       "</table>\n",
       "</div>"
      ],
      "text/plain": [
       "      diameter    weight       red     green      blue\n",
       "7509  0.758650  0.770927 -1.134733 -0.937535  0.399624\n",
       "6802  0.537867  0.530883  0.671145  0.340022  0.509717\n",
       "3983 -0.237440 -0.217669  1.621607 -0.511683  0.729903\n",
       "3056 -0.591719 -0.586809  0.956284  0.425192  0.069345\n",
       "6241  0.353026  0.317207  0.195914 -0.937535  0.729903"
      ]
     },
     "execution_count": 632,
     "metadata": {},
     "output_type": "execute_result"
    }
   ],
   "source": [
    "print(u_list)\n",
    "print(std_list)\n",
    "X_train.head()"
   ]
  },
  {
   "cell_type": "code",
   "execution_count": 633,
   "metadata": {},
   "outputs": [
    {
     "data": {
      "text/plain": [
       "7509    0\n",
       "6802    0\n",
       "3983    1\n",
       "3056    1\n",
       "6241    0\n",
       "       ..\n",
       "6545    0\n",
       "4514    1\n",
       "1751    1\n",
       "4810    1\n",
       "4878    1\n",
       "Name: name, Length: 8000, dtype: int64"
      ]
     },
     "execution_count": 633,
     "metadata": {},
     "output_type": "execute_result"
    }
   ],
   "source": [
    "y_train = y_train.map({'grapefruit':0, 'orange':1})\n",
    "y_train"
   ]
  },
  {
   "cell_type": "code",
   "execution_count": 634,
   "metadata": {},
   "outputs": [
    {
     "data": {
      "text/html": [
       "<div>\n",
       "<style scoped>\n",
       "    .dataframe tbody tr th:only-of-type {\n",
       "        vertical-align: middle;\n",
       "    }\n",
       "\n",
       "    .dataframe tbody tr th {\n",
       "        vertical-align: top;\n",
       "    }\n",
       "\n",
       "    .dataframe thead th {\n",
       "        text-align: right;\n",
       "    }\n",
       "</style>\n",
       "<table border=\"1\" class=\"dataframe\">\n",
       "  <thead>\n",
       "    <tr style=\"text-align: right;\">\n",
       "      <th></th>\n",
       "      <th>diameter</th>\n",
       "      <th>weight</th>\n",
       "      <th>red</th>\n",
       "      <th>green</th>\n",
       "      <th>blue</th>\n",
       "    </tr>\n",
       "  </thead>\n",
       "  <tbody>\n",
       "    <tr>\n",
       "      <th>7509</th>\n",
       "      <td>0.758650</td>\n",
       "      <td>0.770927</td>\n",
       "      <td>-1.134733</td>\n",
       "      <td>-0.937535</td>\n",
       "      <td>0.399624</td>\n",
       "    </tr>\n",
       "    <tr>\n",
       "      <th>6802</th>\n",
       "      <td>0.537867</td>\n",
       "      <td>0.530883</td>\n",
       "      <td>0.671145</td>\n",
       "      <td>0.340022</td>\n",
       "      <td>0.509717</td>\n",
       "    </tr>\n",
       "    <tr>\n",
       "      <th>3983</th>\n",
       "      <td>-0.237440</td>\n",
       "      <td>-0.217669</td>\n",
       "      <td>1.621607</td>\n",
       "      <td>-0.511683</td>\n",
       "      <td>0.729903</td>\n",
       "    </tr>\n",
       "    <tr>\n",
       "      <th>3056</th>\n",
       "      <td>-0.591719</td>\n",
       "      <td>-0.586809</td>\n",
       "      <td>0.956284</td>\n",
       "      <td>0.425192</td>\n",
       "      <td>0.069345</td>\n",
       "    </tr>\n",
       "    <tr>\n",
       "      <th>6241</th>\n",
       "      <td>0.353026</td>\n",
       "      <td>0.317207</td>\n",
       "      <td>0.195914</td>\n",
       "      <td>-0.937535</td>\n",
       "      <td>0.729903</td>\n",
       "    </tr>\n",
       "  </tbody>\n",
       "</table>\n",
       "</div>"
      ],
      "text/plain": [
       "      diameter    weight       red     green      blue\n",
       "7509  0.758650  0.770927 -1.134733 -0.937535  0.399624\n",
       "6802  0.537867  0.530883  0.671145  0.340022  0.509717\n",
       "3983 -0.237440 -0.217669  1.621607 -0.511683  0.729903\n",
       "3056 -0.591719 -0.586809  0.956284  0.425192  0.069345\n",
       "6241  0.353026  0.317207  0.195914 -0.937535  0.729903"
      ]
     },
     "execution_count": 634,
     "metadata": {},
     "output_type": "execute_result"
    }
   ],
   "source": [
    "X_train.head()"
   ]
  },
  {
   "cell_type": "markdown",
   "metadata": {},
   "source": [
    "## Training\n",
    "- KNN"
   ]
  },
  {
   "cell_type": "code",
   "execution_count": 635,
   "metadata": {},
   "outputs": [
    {
     "data": {
      "text/plain": [
       "(pandas.core.frame.DataFrame, pandas.core.series.Series)"
      ]
     },
     "execution_count": 635,
     "metadata": {},
     "output_type": "execute_result"
    }
   ],
   "source": [
    "type(X_train), type(y_train)"
   ]
  },
  {
   "cell_type": "code",
   "execution_count": 636,
   "metadata": {},
   "outputs": [
    {
     "data": {
      "text/plain": [
       "(numpy.ndarray, numpy.ndarray)"
      ]
     },
     "execution_count": 636,
     "metadata": {},
     "output_type": "execute_result"
    }
   ],
   "source": [
    "X_train = X_train.values\n",
    "y_train = y_train.values\n",
    "type(X_train), type(y_train)"
   ]
  },
  {
   "cell_type": "code",
   "execution_count": 637,
   "metadata": {},
   "outputs": [],
   "source": [
    "# Algorithm\n",
    "\n",
    "from sklearn.neighbors import KNeighborsClassifier\n",
    "\n",
    "clf = KNeighborsClassifier(n_neighbors=25)\n",
    "knn_clf = clf.fit(X_train, y_train)"
   ]
  },
  {
   "cell_type": "markdown",
   "metadata": {},
   "source": [
    "## Eval"
   ]
  },
  {
   "cell_type": "code",
   "execution_count": 638,
   "metadata": {},
   "outputs": [
    {
     "name": "stderr",
     "output_type": "stream",
     "text": [
      "C:\\Users\\2023-PC(T)-8\\AppData\\Local\\Temp\\ipykernel_4604\\2110408486.py:2: SettingWithCopyWarning: \n",
      "A value is trying to be set on a copy of a slice from a DataFrame.\n",
      "Try using .loc[row_indexer,col_indexer] = value instead\n",
      "\n",
      "See the caveats in the documentation: https://pandas.pydata.org/pandas-docs/stable/user_guide/indexing.html#returning-a-view-versus-a-copy\n",
      "  X_test[x_idx[i]] = (X_test[x_idx[i]] - u_list[i]) / std_list[i]\n"
     ]
    },
    {
     "data": {
      "text/html": [
       "<div>\n",
       "<style scoped>\n",
       "    .dataframe tbody tr th:only-of-type {\n",
       "        vertical-align: middle;\n",
       "    }\n",
       "\n",
       "    .dataframe tbody tr th {\n",
       "        vertical-align: top;\n",
       "    }\n",
       "\n",
       "    .dataframe thead th {\n",
       "        text-align: right;\n",
       "    }\n",
       "</style>\n",
       "<table border=\"1\" class=\"dataframe\">\n",
       "  <thead>\n",
       "    <tr style=\"text-align: right;\">\n",
       "      <th></th>\n",
       "      <th>diameter</th>\n",
       "      <th>weight</th>\n",
       "      <th>red</th>\n",
       "      <th>green</th>\n",
       "      <th>blue</th>\n",
       "    </tr>\n",
       "  </thead>\n",
       "  <tbody>\n",
       "    <tr>\n",
       "      <th>5100</th>\n",
       "      <td>-0.468491</td>\n",
       "      <td>-0.597082</td>\n",
       "      <td>-0.469410</td>\n",
       "      <td>-0.171001</td>\n",
       "      <td>1.060183</td>\n",
       "    </tr>\n",
       "    <tr>\n",
       "      <th>6774</th>\n",
       "      <td>0.527598</td>\n",
       "      <td>0.519925</td>\n",
       "      <td>1.146376</td>\n",
       "      <td>-0.426512</td>\n",
       "      <td>1.170276</td>\n",
       "    </tr>\n",
       "    <tr>\n",
       "      <th>6707</th>\n",
       "      <td>0.507060</td>\n",
       "      <td>0.498010</td>\n",
       "      <td>-0.374363</td>\n",
       "      <td>-0.767194</td>\n",
       "      <td>-0.701307</td>\n",
       "    </tr>\n",
       "    <tr>\n",
       "      <th>4850</th>\n",
       "      <td>0.471119</td>\n",
       "      <td>0.431236</td>\n",
       "      <td>0.481053</td>\n",
       "      <td>0.254851</td>\n",
       "      <td>-1.031586</td>\n",
       "    </tr>\n",
       "    <tr>\n",
       "      <th>5028</th>\n",
       "      <td>-0.709812</td>\n",
       "      <td>-0.883696</td>\n",
       "      <td>-0.754548</td>\n",
       "      <td>0.510363</td>\n",
       "      <td>3.151951</td>\n",
       "    </tr>\n",
       "    <tr>\n",
       "      <th>...</th>\n",
       "      <td>...</td>\n",
       "      <td>...</td>\n",
       "      <td>...</td>\n",
       "      <td>...</td>\n",
       "      <td>...</td>\n",
       "    </tr>\n",
       "    <tr>\n",
       "      <th>8801</th>\n",
       "      <td>1.231022</td>\n",
       "      <td>1.226359</td>\n",
       "      <td>-1.895103</td>\n",
       "      <td>-1.022705</td>\n",
       "      <td>0.729903</td>\n",
       "    </tr>\n",
       "    <tr>\n",
       "      <th>8476</th>\n",
       "      <td>1.097525</td>\n",
       "      <td>1.101372</td>\n",
       "      <td>-1.800057</td>\n",
       "      <td>-0.937535</td>\n",
       "      <td>-0.371027</td>\n",
       "    </tr>\n",
       "    <tr>\n",
       "      <th>5093</th>\n",
       "      <td>-0.483895</td>\n",
       "      <td>-0.619340</td>\n",
       "      <td>-0.184271</td>\n",
       "      <td>-0.682024</td>\n",
       "      <td>0.399624</td>\n",
       "    </tr>\n",
       "    <tr>\n",
       "      <th>7025</th>\n",
       "      <td>0.609750</td>\n",
       "      <td>0.605190</td>\n",
       "      <td>-0.279317</td>\n",
       "      <td>-0.682024</td>\n",
       "      <td>1.720741</td>\n",
       "    </tr>\n",
       "    <tr>\n",
       "      <th>7859</th>\n",
       "      <td>0.876743</td>\n",
       "      <td>0.887695</td>\n",
       "      <td>-0.849594</td>\n",
       "      <td>-0.767194</td>\n",
       "      <td>-1.031586</td>\n",
       "    </tr>\n",
       "  </tbody>\n",
       "</table>\n",
       "<p>2000 rows × 5 columns</p>\n",
       "</div>"
      ],
      "text/plain": [
       "      diameter    weight       red     green      blue\n",
       "5100 -0.468491 -0.597082 -0.469410 -0.171001  1.060183\n",
       "6774  0.527598  0.519925  1.146376 -0.426512  1.170276\n",
       "6707  0.507060  0.498010 -0.374363 -0.767194 -0.701307\n",
       "4850  0.471119  0.431236  0.481053  0.254851 -1.031586\n",
       "5028 -0.709812 -0.883696 -0.754548  0.510363  3.151951\n",
       "...        ...       ...       ...       ...       ...\n",
       "8801  1.231022  1.226359 -1.895103 -1.022705  0.729903\n",
       "8476  1.097525  1.101372 -1.800057 -0.937535 -0.371027\n",
       "5093 -0.483895 -0.619340 -0.184271 -0.682024  0.399624\n",
       "7025  0.609750  0.605190 -0.279317 -0.682024  1.720741\n",
       "7859  0.876743  0.887695 -0.849594 -0.767194 -1.031586\n",
       "\n",
       "[2000 rows x 5 columns]"
      ]
     },
     "execution_count": 638,
     "metadata": {},
     "output_type": "execute_result"
    }
   ],
   "source": [
    "for i in range(len(x_idx)):\n",
    "    X_test[x_idx[i]] = (X_test[x_idx[i]] - u_list[i]) / std_list[i]\n",
    "X_test"
   ]
  },
  {
   "cell_type": "code",
   "execution_count": 639,
   "metadata": {},
   "outputs": [
    {
     "data": {
      "text/plain": [
       "5100    0\n",
       "6774    0\n",
       "6707    0\n",
       "4850    1\n",
       "5028    0\n",
       "       ..\n",
       "8801    0\n",
       "8476    0\n",
       "5093    0\n",
       "7025    0\n",
       "7859    0\n",
       "Name: name, Length: 2000, dtype: int64"
      ]
     },
     "execution_count": 639,
     "metadata": {},
     "output_type": "execute_result"
    }
   ],
   "source": [
    "y_test = y_test.map({'grapefruit':0, 'orange':1})\n",
    "y_test"
   ]
  },
  {
   "cell_type": "code",
   "execution_count": 640,
   "metadata": {},
   "outputs": [],
   "source": [
    "X_test = X_test.values\n",
    "y_test = y_test.values"
   ]
  },
  {
   "cell_type": "code",
   "execution_count": 641,
   "metadata": {},
   "outputs": [],
   "source": [
    "y_pred = knn_clf.predict(X_test)"
   ]
  },
  {
   "cell_type": "code",
   "execution_count": 642,
   "metadata": {},
   "outputs": [
    {
     "data": {
      "text/plain": [
       "array([0, 0, 0, 1, 0, 0, 1, 0, 0, 1, 0, 0, 1, 1, 1, 0, 1, 0, 1, 1],\n",
       "      dtype=int64)"
      ]
     },
     "execution_count": 642,
     "metadata": {},
     "output_type": "execute_result"
    }
   ],
   "source": [
    "y_pred[:20]"
   ]
  },
  {
   "cell_type": "code",
   "execution_count": 643,
   "metadata": {},
   "outputs": [
    {
     "data": {
      "text/plain": [
       "array([0, 0, 0, 1, 0, 0, 1, 0, 0, 1, 0, 0, 1, 1, 1, 0, 1, 0, 1, 1],\n",
       "      dtype=int64)"
      ]
     },
     "execution_count": 643,
     "metadata": {},
     "output_type": "execute_result"
    }
   ],
   "source": [
    "y_test[:20]"
   ]
  },
  {
   "cell_type": "code",
   "execution_count": 644,
   "metadata": {},
   "outputs": [
    {
     "name": "stdout",
     "output_type": "stream",
     "text": [
      "0.9335\n"
     ]
    }
   ],
   "source": [
    "accurate = np.sum(y_test == y_pred) / len(y_test)\n",
    "print(accurate)"
   ]
  },
  {
   "cell_type": "code",
   "execution_count": 645,
   "metadata": {},
   "outputs": [
    {
     "data": {
      "text/plain": [
       "array([[928,  64],\n",
       "       [ 69, 939]], dtype=int64)"
      ]
     },
     "execution_count": 645,
     "metadata": {},
     "output_type": "execute_result"
    }
   ],
   "source": [
    "# 오차 행렬\n",
    "from sklearn.metrics import confusion_matrix\n",
    "\n",
    "cf = confusion_matrix(y_test, y_pred)\n",
    "cf"
   ]
  },
  {
   "cell_type": "code",
   "execution_count": 646,
   "metadata": {},
   "outputs": [
    {
     "data": {
      "text/plain": [
       "[Text(0.5, 23.52222222222222, 'Prediction'),\n",
       " Text(50.722222222222214, 0.5, 'Actual')]"
      ]
     },
     "execution_count": 646,
     "metadata": {},
     "output_type": "execute_result"
    },
    {
     "data": {
      "image/png": "[encoded data removed]",
      "text/plain": [
       "<Figure size 640x480 with 1 Axes>"
      ]
     },
     "metadata": {},
     "output_type": "display_data"
    }
   ],
   "source": [
    "s = sns.heatmap(cf, annot=True, cmap='Blues', fmt='d', cbar=False)\n",
    "s.set(xlabel='Prediction', ylabel='Actual')"
   ]
  },
  {
   "cell_type": "code",
   "execution_count": 647,
   "metadata": {},
   "outputs": [
    {
     "name": "stdout",
     "output_type": "stream",
     "text": [
      "acc : 0.9335, recall : 0.9315476190476191, ps : 0.9361914257228315, f1 : 0.9338637493784188\n"
     ]
    }
   ],
   "source": [
    "from sklearn.metrics import accuracy_score, recall_score, precision_score, f1_score\n",
    "\n",
    "acc = accuracy_score(y_test, y_pred)\n",
    "recall = recall_score(y_test, y_pred)\n",
    "ps = precision_score(y_test, y_pred)\n",
    "f1 = f1_score(y_test, y_pred)\n",
    "\n",
    "print(f\"acc : {acc}, recall : {recall}, ps : {ps}, f1 : {f1}\")"
   ]
  },
  {
   "cell_type": "code",
   "execution_count": 648,
   "metadata": {},
   "outputs": [
    {
     "name": "stdout",
     "output_type": "stream",
     "text": [
      "k : 3, acc : 0.9165\n",
      "k : 4, acc : 0.917\n",
      "k : 5, acc : 0.9255\n",
      "k : 6, acc : 0.9225\n",
      "k : 7, acc : 0.928\n",
      "k : 8, acc : 0.926\n",
      "k : 9, acc : 0.9275\n",
      "k : 10, acc : 0.927\n",
      "k : 11, acc : 0.9275\n",
      "k : 12, acc : 0.929\n",
      "k : 13, acc : 0.931\n",
      "k : 14, acc : 0.9295\n",
      "k : 15, acc : 0.9325\n",
      "k : 16, acc : 0.931\n",
      "k : 17, acc : 0.9305\n",
      "k : 18, acc : 0.932\n",
      "k : 19, acc : 0.933\n",
      "k : 20, acc : 0.933\n",
      "k : 21, acc : 0.9325\n",
      "k : 22, acc : 0.932\n",
      "k : 23, acc : 0.9325\n",
      "k : 24, acc : 0.9335\n",
      "k : 25, acc : 0.9335\n",
      "k : 26, acc : 0.932\n",
      "k : 27, acc : 0.9355\n",
      "k : 28, acc : 0.935\n",
      "k : 29, acc : 0.9355\n",
      "k : 30, acc : 0.9355\n",
      "k : 31, acc : 0.936\n",
      "k : 32, acc : 0.936\n",
      "k : 33, acc : 0.9345\n",
      "k : 34, acc : 0.935\n",
      "k : 35, acc : 0.936\n",
      "k : 36, acc : 0.936\n",
      "k : 37, acc : 0.936\n",
      "k : 38, acc : 0.9365\n",
      "k : 39, acc : 0.9365\n",
      "k : 40, acc : 0.937\n",
      "k : 41, acc : 0.9345\n",
      "k : 42, acc : 0.936\n",
      "k : 43, acc : 0.9355\n",
      "k : 44, acc : 0.9365\n",
      "k : 45, acc : 0.935\n",
      "k : 46, acc : 0.9365\n",
      "k : 47, acc : 0.934\n",
      "k : 48, acc : 0.9335\n",
      "k : 49, acc : 0.9325\n",
      "k : 50, acc : 0.9325\n",
      "k : 51, acc : 0.933\n",
      "k : 52, acc : 0.934\n",
      "k : 53, acc : 0.934\n",
      "k : 54, acc : 0.9325\n",
      "k : 55, acc : 0.934\n",
      "k : 56, acc : 0.9325\n",
      "k : 57, acc : 0.9345\n",
      "k : 58, acc : 0.9335\n",
      "k : 59, acc : 0.9335\n",
      "k : 60, acc : 0.933\n",
      "k : 61, acc : 0.9335\n",
      "k : 62, acc : 0.933\n",
      "k : 63, acc : 0.9325\n",
      "k : 64, acc : 0.932\n",
      "k : 65, acc : 0.932\n",
      "k : 66, acc : 0.9315\n",
      "k : 67, acc : 0.9315\n",
      "k : 68, acc : 0.9325\n",
      "k : 69, acc : 0.933\n",
      "k : 70, acc : 0.932\n",
      "k : 71, acc : 0.9335\n",
      "k : 72, acc : 0.9335\n",
      "k : 73, acc : 0.9345\n",
      "k : 74, acc : 0.932\n",
      "k : 75, acc : 0.9325\n",
      "k : 76, acc : 0.9325\n",
      "k : 77, acc : 0.933\n",
      "k : 78, acc : 0.932\n",
      "k : 79, acc : 0.9325\n",
      "k : 80, acc : 0.9315\n",
      "k : 81, acc : 0.9325\n",
      "k : 82, acc : 0.933\n",
      "k : 83, acc : 0.934\n",
      "k : 84, acc : 0.9335\n",
      "k : 85, acc : 0.933\n",
      "k : 86, acc : 0.9335\n",
      "k : 87, acc : 0.933\n",
      "k : 88, acc : 0.9335\n",
      "k : 89, acc : 0.934\n",
      "k : 90, acc : 0.934\n",
      "k : 91, acc : 0.934\n",
      "k : 92, acc : 0.934\n",
      "k : 93, acc : 0.9335\n",
      "k : 94, acc : 0.9325\n",
      "k : 95, acc : 0.933\n",
      "k : 96, acc : 0.933\n",
      "k : 97, acc : 0.9335\n",
      "k : 98, acc : 0.9335\n",
      "k : 99, acc : 0.933\n"
     ]
    }
   ],
   "source": [
    "# 모델 튜닝\n",
    "\n",
    "score = []\n",
    "\n",
    "for k in range(3, 100):\n",
    "    clf = KNeighborsClassifier(n_neighbors=k)\n",
    "    knn_clf = clf.fit(X_train, y_train)\n",
    "\n",
    "    y_pred = knn_clf.predict(X_test)\n",
    "    acc = accuracy_score(y_test, y_pred)\n",
    "\n",
    "    print(f\"k : {k}, acc : {acc}\")\n",
    "    score.append(acc)"
   ]
  },
  {
   "cell_type": "code",
   "execution_count": 653,
   "metadata": {},
   "outputs": [
    {
     "data": {
      "image/png": "[encoded data removed]",
      "text/plain": [
       "<Figure size 640x480 with 1 Axes>"
      ]
     },
     "metadata": {},
     "output_type": "display_data"
    }
   ],
   "source": [
    "plt.plot(score)\n",
    "plt.show()"
   ]
  },
  {
   "cell_type": "code",
   "execution_count": 654,
   "metadata": {},
   "outputs": [],
   "source": [
    "# k가 40일때 best\n",
    "\n",
    "best_clf = KNeighborsClassifier(n_neighbors=40)\n",
    "best_clf = best_clf.fit(X_train, y_train)"
   ]
  },
  {
   "cell_type": "code",
   "execution_count": 660,
   "metadata": {},
   "outputs": [
    {
     "data": {
      "text/plain": [
       "0.937"
      ]
     },
     "execution_count": 660,
     "metadata": {},
     "output_type": "execute_result"
    }
   ],
   "source": [
    "best_pred = best_clf.predict(X_test)\n",
    "best_acc = accuracy_score(y_test, best_pred)\n",
    "best_acc"
   ]
  },
  {
   "cell_type": "code",
   "execution_count": null,
   "metadata": {},
   "outputs": [],
   "source": []
  }
 ],
 "metadata": {
  "kernelspec": {
   "display_name": "base",
   "language": "python",
   "name": "python3"
  },
  "language_info": {
   "codemirror_mode": {
    "name": "ipython",
    "version": 3
   },
   "file_extension": ".py",
   "mimetype": "text/x-python",
   "name": "python",
   "nbconvert_exporter": "python",
   "pygments_lexer": "ipython3",
   "version": "3.11.5"
  }
 },
 "nbformat": 4,
 "nbformat_minor": 2
}
