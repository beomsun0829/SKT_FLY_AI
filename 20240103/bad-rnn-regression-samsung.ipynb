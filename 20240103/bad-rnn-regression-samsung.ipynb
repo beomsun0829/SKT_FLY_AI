{
 "cells": [
  {
   "cell_type": "markdown",
   "metadata": {},
   "source": [
    "### 순환신경망 주식 예측\n",
    "- 삼성 주식 데이터\n"
   ]
  },
  {
   "cell_type": "code",
   "execution_count": 25,
   "metadata": {},
   "outputs": [],
   "source": [
    "import numpy as np\n",
    "import pandas as pd\n",
    "import matplotlib.pyplot as plt\n",
    "\n",
    "import tensorflow as tf\n",
    "from tensorflow import keras"
   ]
  },
  {
   "cell_type": "code",
   "execution_count": 26,
   "metadata": {},
   "outputs": [
    {
     "name": "stdout",
     "output_type": "stream",
     "text": [
      "(6019, 7)\n"
     ]
    },
    {
     "data": {
      "text/html": [
       "<div>\n",
       "<style scoped>\n",
       "    .dataframe tbody tr th:only-of-type {\n",
       "        vertical-align: middle;\n",
       "    }\n",
       "\n",
       "    .dataframe tbody tr th {\n",
       "        vertical-align: top;\n",
       "    }\n",
       "\n",
       "    .dataframe thead th {\n",
       "        text-align: right;\n",
       "    }\n",
       "</style>\n",
       "<table border=\"1\" class=\"dataframe\">\n",
       "  <thead>\n",
       "    <tr style=\"text-align: right;\">\n",
       "      <th></th>\n",
       "      <th>Date</th>\n",
       "      <th>Open</th>\n",
       "      <th>High</th>\n",
       "      <th>Low</th>\n",
       "      <th>Close</th>\n",
       "      <th>Adj Close</th>\n",
       "      <th>Volume</th>\n",
       "    </tr>\n",
       "  </thead>\n",
       "  <tbody>\n",
       "    <tr>\n",
       "      <th>0</th>\n",
       "      <td>2000-01-04</td>\n",
       "      <td>6000.0</td>\n",
       "      <td>6110.0</td>\n",
       "      <td>5660.0</td>\n",
       "      <td>6110.0</td>\n",
       "      <td>4514.581543</td>\n",
       "      <td>74195000</td>\n",
       "    </tr>\n",
       "    <tr>\n",
       "      <th>1</th>\n",
       "      <td>2000-01-05</td>\n",
       "      <td>5800.0</td>\n",
       "      <td>6060.0</td>\n",
       "      <td>5520.0</td>\n",
       "      <td>5580.0</td>\n",
       "      <td>4122.972656</td>\n",
       "      <td>74680000</td>\n",
       "    </tr>\n",
       "    <tr>\n",
       "      <th>2</th>\n",
       "      <td>2000-01-06</td>\n",
       "      <td>5750.0</td>\n",
       "      <td>5780.0</td>\n",
       "      <td>5580.0</td>\n",
       "      <td>5620.0</td>\n",
       "      <td>4152.526855</td>\n",
       "      <td>54390000</td>\n",
       "    </tr>\n",
       "    <tr>\n",
       "      <th>3</th>\n",
       "      <td>2000-01-07</td>\n",
       "      <td>5560.0</td>\n",
       "      <td>5670.0</td>\n",
       "      <td>5360.0</td>\n",
       "      <td>5540.0</td>\n",
       "      <td>4093.417969</td>\n",
       "      <td>40305000</td>\n",
       "    </tr>\n",
       "    <tr>\n",
       "      <th>4</th>\n",
       "      <td>2000-01-10</td>\n",
       "      <td>5600.0</td>\n",
       "      <td>5770.0</td>\n",
       "      <td>5580.0</td>\n",
       "      <td>5770.0</td>\n",
       "      <td>4263.360352</td>\n",
       "      <td>46880000</td>\n",
       "    </tr>\n",
       "  </tbody>\n",
       "</table>\n",
       "</div>"
      ],
      "text/plain": [
       "         Date    Open    High     Low   Close    Adj Close    Volume\n",
       "0  2000-01-04  6000.0  6110.0  5660.0  6110.0  4514.581543  74195000\n",
       "1  2000-01-05  5800.0  6060.0  5520.0  5580.0  4122.972656  74680000\n",
       "2  2000-01-06  5750.0  5780.0  5580.0  5620.0  4152.526855  54390000\n",
       "3  2000-01-07  5560.0  5670.0  5360.0  5540.0  4093.417969  40305000\n",
       "4  2000-01-10  5600.0  5770.0  5580.0  5770.0  4263.360352  46880000"
      ]
     },
     "execution_count": 26,
     "metadata": {},
     "output_type": "execute_result"
    }
   ],
   "source": [
    "samsung = pd.read_csv(\"./dataset/005930.KS.csv\")\n",
    "\n",
    "df = samsung.copy()\n",
    "print(df.shape)\n",
    "df.head()"
   ]
  },
  {
   "cell_type": "code",
   "execution_count": 27,
   "metadata": {},
   "outputs": [
    {
     "name": "stdout",
     "output_type": "stream",
     "text": [
      "<class 'pandas.core.frame.DataFrame'>\n",
      "RangeIndex: 6019 entries, 0 to 6018\n",
      "Data columns (total 7 columns):\n",
      " #   Column     Non-Null Count  Dtype  \n",
      "---  ------     --------------  -----  \n",
      " 0   Date       6019 non-null   object \n",
      " 1   Open       6019 non-null   float64\n",
      " 2   High       6019 non-null   float64\n",
      " 3   Low        6019 non-null   float64\n",
      " 4   Close      6019 non-null   float64\n",
      " 5   Adj Close  6019 non-null   float64\n",
      " 6   Volume     6019 non-null   int64  \n",
      "dtypes: float64(5), int64(1), object(1)\n",
      "memory usage: 329.3+ KB\n"
     ]
    }
   ],
   "source": [
    "df.info()"
   ]
  },
  {
   "cell_type": "code",
   "execution_count": 28,
   "metadata": {},
   "outputs": [
    {
     "name": "stdout",
     "output_type": "stream",
     "text": [
      "<class 'pandas.core.frame.DataFrame'>\n",
      "RangeIndex: 6019 entries, 0 to 6018\n",
      "Data columns (total 7 columns):\n",
      " #   Column     Non-Null Count  Dtype         \n",
      "---  ------     --------------  -----         \n",
      " 0   Date       6019 non-null   datetime64[ns]\n",
      " 1   Open       6019 non-null   float64       \n",
      " 2   High       6019 non-null   float64       \n",
      " 3   Low        6019 non-null   float64       \n",
      " 4   Close      6019 non-null   float64       \n",
      " 5   Adj Close  6019 non-null   float64       \n",
      " 6   Volume     6019 non-null   int64         \n",
      "dtypes: datetime64[ns](1), float64(5), int64(1)\n",
      "memory usage: 329.3 KB\n"
     ]
    }
   ],
   "source": [
    "df['Date'] = pd.to_datetime(df['Date'])     # object -> datetime 형식으로 변경\n",
    "df.info()"
   ]
  },
  {
   "cell_type": "code",
   "execution_count": 29,
   "metadata": {},
   "outputs": [
    {
     "data": {
      "text/html": [
       "<div>\n",
       "<style scoped>\n",
       "    .dataframe tbody tr th:only-of-type {\n",
       "        vertical-align: middle;\n",
       "    }\n",
       "\n",
       "    .dataframe tbody tr th {\n",
       "        vertical-align: top;\n",
       "    }\n",
       "\n",
       "    .dataframe thead th {\n",
       "        text-align: right;\n",
       "    }\n",
       "</style>\n",
       "<table border=\"1\" class=\"dataframe\">\n",
       "  <thead>\n",
       "    <tr style=\"text-align: right;\">\n",
       "      <th></th>\n",
       "      <th>Open</th>\n",
       "      <th>High</th>\n",
       "      <th>Low</th>\n",
       "      <th>Close</th>\n",
       "      <th>Adj Close</th>\n",
       "      <th>Volume</th>\n",
       "    </tr>\n",
       "    <tr>\n",
       "      <th>Date</th>\n",
       "      <th></th>\n",
       "      <th></th>\n",
       "      <th></th>\n",
       "      <th></th>\n",
       "      <th></th>\n",
       "      <th></th>\n",
       "    </tr>\n",
       "  </thead>\n",
       "  <tbody>\n",
       "    <tr>\n",
       "      <th>2000-01-04</th>\n",
       "      <td>6000.0</td>\n",
       "      <td>6110.0</td>\n",
       "      <td>5660.0</td>\n",
       "      <td>6110.0</td>\n",
       "      <td>4514.581543</td>\n",
       "      <td>74195000</td>\n",
       "    </tr>\n",
       "    <tr>\n",
       "      <th>2000-01-05</th>\n",
       "      <td>5800.0</td>\n",
       "      <td>6060.0</td>\n",
       "      <td>5520.0</td>\n",
       "      <td>5580.0</td>\n",
       "      <td>4122.972656</td>\n",
       "      <td>74680000</td>\n",
       "    </tr>\n",
       "    <tr>\n",
       "      <th>2000-01-06</th>\n",
       "      <td>5750.0</td>\n",
       "      <td>5780.0</td>\n",
       "      <td>5580.0</td>\n",
       "      <td>5620.0</td>\n",
       "      <td>4152.526855</td>\n",
       "      <td>54390000</td>\n",
       "    </tr>\n",
       "    <tr>\n",
       "      <th>2000-01-07</th>\n",
       "      <td>5560.0</td>\n",
       "      <td>5670.0</td>\n",
       "      <td>5360.0</td>\n",
       "      <td>5540.0</td>\n",
       "      <td>4093.417969</td>\n",
       "      <td>40305000</td>\n",
       "    </tr>\n",
       "    <tr>\n",
       "      <th>2000-01-10</th>\n",
       "      <td>5600.0</td>\n",
       "      <td>5770.0</td>\n",
       "      <td>5580.0</td>\n",
       "      <td>5770.0</td>\n",
       "      <td>4263.360352</td>\n",
       "      <td>46880000</td>\n",
       "    </tr>\n",
       "  </tbody>\n",
       "</table>\n",
       "</div>"
      ],
      "text/plain": [
       "              Open    High     Low   Close    Adj Close    Volume\n",
       "Date                                                             \n",
       "2000-01-04  6000.0  6110.0  5660.0  6110.0  4514.581543  74195000\n",
       "2000-01-05  5800.0  6060.0  5520.0  5580.0  4122.972656  74680000\n",
       "2000-01-06  5750.0  5780.0  5580.0  5620.0  4152.526855  54390000\n",
       "2000-01-07  5560.0  5670.0  5360.0  5540.0  4093.417969  40305000\n",
       "2000-01-10  5600.0  5770.0  5580.0  5770.0  4263.360352  46880000"
      ]
     },
     "execution_count": 29,
     "metadata": {},
     "output_type": "execute_result"
    }
   ],
   "source": [
    "df = df.set_index('Date')       # Date를 index로 사용\n",
    "df.head()"
   ]
  },
  {
   "cell_type": "code",
   "execution_count": 30,
   "metadata": {},
   "outputs": [
    {
     "data": {
      "image/png": "[encoded data removed]",
      "text/plain": [
       "<Figure size 1000x500 with 1 Axes>"
      ]
     },
     "metadata": {},
     "output_type": "display_data"
    }
   ],
   "source": [
    "plt.figure(figsize=(10, 5))\n",
    "plt.plot(df.index, df['Close'])\n",
    "plt.show()"
   ]
  },
  {
   "cell_type": "markdown",
   "metadata": {},
   "source": [
    "### Feature Extraction"
   ]
  },
  {
   "cell_type": "code",
   "execution_count": 31,
   "metadata": {},
   "outputs": [
    {
     "data": {
      "text/html": [
       "<div>\n",
       "<style scoped>\n",
       "    .dataframe tbody tr th:only-of-type {\n",
       "        vertical-align: middle;\n",
       "    }\n",
       "\n",
       "    .dataframe tbody tr th {\n",
       "        vertical-align: top;\n",
       "    }\n",
       "\n",
       "    .dataframe thead th {\n",
       "        text-align: right;\n",
       "    }\n",
       "</style>\n",
       "<table border=\"1\" class=\"dataframe\">\n",
       "  <thead>\n",
       "    <tr style=\"text-align: right;\">\n",
       "      <th></th>\n",
       "      <th>Open</th>\n",
       "      <th>High</th>\n",
       "      <th>Low</th>\n",
       "      <th>Close</th>\n",
       "      <th>Adj Close</th>\n",
       "      <th>Volume</th>\n",
       "      <th>MA3</th>\n",
       "      <th>MA5</th>\n",
       "      <th>Mid</th>\n",
       "    </tr>\n",
       "    <tr>\n",
       "      <th>Date</th>\n",
       "      <th></th>\n",
       "      <th></th>\n",
       "      <th></th>\n",
       "      <th></th>\n",
       "      <th></th>\n",
       "      <th></th>\n",
       "      <th></th>\n",
       "      <th></th>\n",
       "      <th></th>\n",
       "    </tr>\n",
       "  </thead>\n",
       "  <tbody>\n",
       "    <tr>\n",
       "      <th>2000-01-04</th>\n",
       "      <td>6000.0</td>\n",
       "      <td>6110.0</td>\n",
       "      <td>5660.0</td>\n",
       "      <td>6110.0</td>\n",
       "      <td>4514.581543</td>\n",
       "      <td>74195000</td>\n",
       "      <td>NaN</td>\n",
       "      <td>NaN</td>\n",
       "      <td>6055.0</td>\n",
       "    </tr>\n",
       "    <tr>\n",
       "      <th>2000-01-05</th>\n",
       "      <td>5800.0</td>\n",
       "      <td>6060.0</td>\n",
       "      <td>5520.0</td>\n",
       "      <td>5580.0</td>\n",
       "      <td>4122.972656</td>\n",
       "      <td>74680000</td>\n",
       "      <td>NaN</td>\n",
       "      <td>NaN</td>\n",
       "      <td>5690.0</td>\n",
       "    </tr>\n",
       "    <tr>\n",
       "      <th>2000-01-06</th>\n",
       "      <td>5750.0</td>\n",
       "      <td>5780.0</td>\n",
       "      <td>5580.0</td>\n",
       "      <td>5620.0</td>\n",
       "      <td>4152.526855</td>\n",
       "      <td>54390000</td>\n",
       "      <td>5770.0</td>\n",
       "      <td>NaN</td>\n",
       "      <td>5685.0</td>\n",
       "    </tr>\n",
       "    <tr>\n",
       "      <th>2000-01-07</th>\n",
       "      <td>5560.0</td>\n",
       "      <td>5670.0</td>\n",
       "      <td>5360.0</td>\n",
       "      <td>5540.0</td>\n",
       "      <td>4093.417969</td>\n",
       "      <td>40305000</td>\n",
       "      <td>5580.0</td>\n",
       "      <td>NaN</td>\n",
       "      <td>5550.0</td>\n",
       "    </tr>\n",
       "    <tr>\n",
       "      <th>2000-01-10</th>\n",
       "      <td>5600.0</td>\n",
       "      <td>5770.0</td>\n",
       "      <td>5580.0</td>\n",
       "      <td>5770.0</td>\n",
       "      <td>4263.360352</td>\n",
       "      <td>46880000</td>\n",
       "      <td>5643.0</td>\n",
       "      <td>5724.0</td>\n",
       "      <td>5685.0</td>\n",
       "    </tr>\n",
       "  </tbody>\n",
       "</table>\n",
       "</div>"
      ],
      "text/plain": [
       "              Open    High     Low   Close    Adj Close    Volume     MA3  \\\n",
       "Date                                                                        \n",
       "2000-01-04  6000.0  6110.0  5660.0  6110.0  4514.581543  74195000     NaN   \n",
       "2000-01-05  5800.0  6060.0  5520.0  5580.0  4122.972656  74680000     NaN   \n",
       "2000-01-06  5750.0  5780.0  5580.0  5620.0  4152.526855  54390000  5770.0   \n",
       "2000-01-07  5560.0  5670.0  5360.0  5540.0  4093.417969  40305000  5580.0   \n",
       "2000-01-10  5600.0  5770.0  5580.0  5770.0  4263.360352  46880000  5643.0   \n",
       "\n",
       "               MA5     Mid  \n",
       "Date                        \n",
       "2000-01-04     NaN  6055.0  \n",
       "2000-01-05     NaN  5690.0  \n",
       "2000-01-06     NaN  5685.0  \n",
       "2000-01-07     NaN  5550.0  \n",
       "2000-01-10  5724.0  5685.0  "
      ]
     },
     "execution_count": 31,
     "metadata": {},
     "output_type": "execute_result"
    }
   ],
   "source": [
    "df['MA3'] = np.around(df['Close'].rolling(window=3).mean(), 0)       # 3일 이동평균, 반올림. 이전 3일이므로 앞의 두 값은 없음\n",
    "df['MA5'] = np.around(df['Close'].rolling(window=5).mean(), 0)\n",
    "df['Mid'] = np.around((df['Open'] + df['Close']) / 2, 0)\n",
    "df.head()"
   ]
  },
  {
   "cell_type": "code",
   "execution_count": 32,
   "metadata": {},
   "outputs": [
    {
     "data": {
      "text/plain": [
       "Open         0\n",
       "High         0\n",
       "Low          0\n",
       "Close        0\n",
       "Adj Close    0\n",
       "Volume       0\n",
       "MA3          2\n",
       "MA5          4\n",
       "Mid          0\n",
       "dtype: int64"
      ]
     },
     "execution_count": 32,
     "metadata": {},
     "output_type": "execute_result"
    }
   ],
   "source": [
    "df.isna().sum(axis=0)"
   ]
  },
  {
   "cell_type": "code",
   "execution_count": 33,
   "metadata": {},
   "outputs": [
    {
     "data": {
      "text/html": [
       "<div>\n",
       "<style scoped>\n",
       "    .dataframe tbody tr th:only-of-type {\n",
       "        vertical-align: middle;\n",
       "    }\n",
       "\n",
       "    .dataframe tbody tr th {\n",
       "        vertical-align: top;\n",
       "    }\n",
       "\n",
       "    .dataframe thead th {\n",
       "        text-align: right;\n",
       "    }\n",
       "</style>\n",
       "<table border=\"1\" class=\"dataframe\">\n",
       "  <thead>\n",
       "    <tr style=\"text-align: right;\">\n",
       "      <th></th>\n",
       "      <th>count</th>\n",
       "      <th>mean</th>\n",
       "      <th>std</th>\n",
       "      <th>min</th>\n",
       "      <th>25%</th>\n",
       "      <th>50%</th>\n",
       "      <th>75%</th>\n",
       "      <th>max</th>\n",
       "    </tr>\n",
       "  </thead>\n",
       "  <tbody>\n",
       "    <tr>\n",
       "      <th>Open</th>\n",
       "      <td>6019.0</td>\n",
       "      <td>2.750416e+04</td>\n",
       "      <td>2.183309e+04</td>\n",
       "      <td>2540.000000</td>\n",
       "      <td>1.056000e+04</td>\n",
       "      <td>1.910000e+04</td>\n",
       "      <td>4.430000e+04</td>\n",
       "      <td>9.030000e+04</td>\n",
       "    </tr>\n",
       "    <tr>\n",
       "      <th>High</th>\n",
       "      <td>6019.0</td>\n",
       "      <td>2.777173e+04</td>\n",
       "      <td>2.200310e+04</td>\n",
       "      <td>2760.000000</td>\n",
       "      <td>1.073000e+04</td>\n",
       "      <td>1.932000e+04</td>\n",
       "      <td>4.482500e+04</td>\n",
       "      <td>9.680000e+04</td>\n",
       "    </tr>\n",
       "    <tr>\n",
       "      <th>Low</th>\n",
       "      <td>6019.0</td>\n",
       "      <td>2.722825e+04</td>\n",
       "      <td>2.165059e+04</td>\n",
       "      <td>2420.000000</td>\n",
       "      <td>1.042000e+04</td>\n",
       "      <td>1.886000e+04</td>\n",
       "      <td>4.380000e+04</td>\n",
       "      <td>8.950000e+04</td>\n",
       "    </tr>\n",
       "    <tr>\n",
       "      <th>Close</th>\n",
       "      <td>6019.0</td>\n",
       "      <td>2.749727e+04</td>\n",
       "      <td>2.181701e+04</td>\n",
       "      <td>2730.000000</td>\n",
       "      <td>1.056000e+04</td>\n",
       "      <td>1.916000e+04</td>\n",
       "      <td>4.432500e+04</td>\n",
       "      <td>9.100000e+04</td>\n",
       "    </tr>\n",
       "    <tr>\n",
       "      <th>Adj Close</th>\n",
       "      <td>6019.0</td>\n",
       "      <td>2.391481e+04</td>\n",
       "      <td>2.140201e+04</td>\n",
       "      <td>2017.153564</td>\n",
       "      <td>7.940696e+03</td>\n",
       "      <td>1.498650e+04</td>\n",
       "      <td>3.864341e+04</td>\n",
       "      <td>8.628670e+04</td>\n",
       "    </tr>\n",
       "    <tr>\n",
       "      <th>Volume</th>\n",
       "      <td>6019.0</td>\n",
       "      <td>2.119537e+07</td>\n",
       "      <td>1.515231e+07</td>\n",
       "      <td>0.000000</td>\n",
       "      <td>1.164138e+07</td>\n",
       "      <td>1.710540e+07</td>\n",
       "      <td>2.631302e+07</td>\n",
       "      <td>1.642150e+08</td>\n",
       "    </tr>\n",
       "    <tr>\n",
       "      <th>MA3</th>\n",
       "      <td>6017.0</td>\n",
       "      <td>2.749238e+04</td>\n",
       "      <td>2.180581e+04</td>\n",
       "      <td>2790.000000</td>\n",
       "      <td>1.058700e+04</td>\n",
       "      <td>1.906000e+04</td>\n",
       "      <td>4.436700e+04</td>\n",
       "      <td>9.043300e+04</td>\n",
       "    </tr>\n",
       "    <tr>\n",
       "      <th>MA5</th>\n",
       "      <td>6015.0</td>\n",
       "      <td>2.748751e+04</td>\n",
       "      <td>2.179516e+04</td>\n",
       "      <td>2810.000000</td>\n",
       "      <td>1.061200e+04</td>\n",
       "      <td>1.906400e+04</td>\n",
       "      <td>4.442000e+04</td>\n",
       "      <td>8.996000e+04</td>\n",
       "    </tr>\n",
       "    <tr>\n",
       "      <th>Mid</th>\n",
       "      <td>6019.0</td>\n",
       "      <td>2.750072e+04</td>\n",
       "      <td>2.182386e+04</td>\n",
       "      <td>2635.000000</td>\n",
       "      <td>1.057000e+04</td>\n",
       "      <td>1.912000e+04</td>\n",
       "      <td>4.431250e+04</td>\n",
       "      <td>9.050000e+04</td>\n",
       "    </tr>\n",
       "  </tbody>\n",
       "</table>\n",
       "</div>"
      ],
      "text/plain": [
       "            count          mean           std          min           25%  \\\n",
       "Open       6019.0  2.750416e+04  2.183309e+04  2540.000000  1.056000e+04   \n",
       "High       6019.0  2.777173e+04  2.200310e+04  2760.000000  1.073000e+04   \n",
       "Low        6019.0  2.722825e+04  2.165059e+04  2420.000000  1.042000e+04   \n",
       "Close      6019.0  2.749727e+04  2.181701e+04  2730.000000  1.056000e+04   \n",
       "Adj Close  6019.0  2.391481e+04  2.140201e+04  2017.153564  7.940696e+03   \n",
       "Volume     6019.0  2.119537e+07  1.515231e+07     0.000000  1.164138e+07   \n",
       "MA3        6017.0  2.749238e+04  2.180581e+04  2790.000000  1.058700e+04   \n",
       "MA5        6015.0  2.748751e+04  2.179516e+04  2810.000000  1.061200e+04   \n",
       "Mid        6019.0  2.750072e+04  2.182386e+04  2635.000000  1.057000e+04   \n",
       "\n",
       "                    50%           75%           max  \n",
       "Open       1.910000e+04  4.430000e+04  9.030000e+04  \n",
       "High       1.932000e+04  4.482500e+04  9.680000e+04  \n",
       "Low        1.886000e+04  4.380000e+04  8.950000e+04  \n",
       "Close      1.916000e+04  4.432500e+04  9.100000e+04  \n",
       "Adj Close  1.498650e+04  3.864341e+04  8.628670e+04  \n",
       "Volume     1.710540e+07  2.631302e+07  1.642150e+08  \n",
       "MA3        1.906000e+04  4.436700e+04  9.043300e+04  \n",
       "MA5        1.906400e+04  4.442000e+04  8.996000e+04  \n",
       "Mid        1.912000e+04  4.431250e+04  9.050000e+04  "
      ]
     },
     "execution_count": 33,
     "metadata": {},
     "output_type": "execute_result"
    }
   ],
   "source": [
    "df.describe().T             # Volume min이 0인 날이 있음"
   ]
  },
  {
   "cell_type": "code",
   "execution_count": 34,
   "metadata": {},
   "outputs": [
    {
     "data": {
      "text/plain": [
       "Open           0\n",
       "High           0\n",
       "Low            0\n",
       "Close          0\n",
       "Adj Close      0\n",
       "Volume       127\n",
       "MA3            2\n",
       "MA5            4\n",
       "Mid            0\n",
       "dtype: int64"
      ]
     },
     "execution_count": 34,
     "metadata": {},
     "output_type": "execute_result"
    }
   ],
   "source": [
    "df['Volume'] = df['Volume'].replace(0, np.nan)\n",
    "df.isna().sum(axis=0)"
   ]
  },
  {
   "cell_type": "code",
   "execution_count": 35,
   "metadata": {},
   "outputs": [
    {
     "data": {
      "text/plain": [
       "Index(['Open', 'High', 'Low', 'Close', 'Adj Close', 'Volume', 'MA3', 'MA5',\n",
       "       'Mid'],\n",
       "      dtype='object')"
      ]
     },
     "execution_count": 35,
     "metadata": {},
     "output_type": "execute_result"
    }
   ],
   "source": [
    "df.columns"
   ]
  },
  {
   "cell_type": "code",
   "execution_count": 36,
   "metadata": {},
   "outputs": [
    {
     "data": {
      "text/html": [
       "<div>\n",
       "<style scoped>\n",
       "    .dataframe tbody tr th:only-of-type {\n",
       "        vertical-align: middle;\n",
       "    }\n",
       "\n",
       "    .dataframe tbody tr th {\n",
       "        vertical-align: top;\n",
       "    }\n",
       "\n",
       "    .dataframe thead th {\n",
       "        text-align: right;\n",
       "    }\n",
       "</style>\n",
       "<table border=\"1\" class=\"dataframe\">\n",
       "  <thead>\n",
       "    <tr style=\"text-align: right;\">\n",
       "      <th></th>\n",
       "      <th>Open</th>\n",
       "      <th>High</th>\n",
       "      <th>Low</th>\n",
       "      <th>Volume</th>\n",
       "      <th>MA3</th>\n",
       "      <th>MA5</th>\n",
       "      <th>Mid</th>\n",
       "    </tr>\n",
       "    <tr>\n",
       "      <th>Date</th>\n",
       "      <th></th>\n",
       "      <th></th>\n",
       "      <th></th>\n",
       "      <th></th>\n",
       "      <th></th>\n",
       "      <th></th>\n",
       "      <th></th>\n",
       "    </tr>\n",
       "  </thead>\n",
       "  <tbody>\n",
       "    <tr>\n",
       "      <th>2000-01-04</th>\n",
       "      <td>6000.0</td>\n",
       "      <td>6110.0</td>\n",
       "      <td>5660.0</td>\n",
       "      <td>74195000.0</td>\n",
       "      <td>NaN</td>\n",
       "      <td>NaN</td>\n",
       "      <td>6055.0</td>\n",
       "    </tr>\n",
       "    <tr>\n",
       "      <th>2000-01-05</th>\n",
       "      <td>5800.0</td>\n",
       "      <td>6060.0</td>\n",
       "      <td>5520.0</td>\n",
       "      <td>74680000.0</td>\n",
       "      <td>NaN</td>\n",
       "      <td>NaN</td>\n",
       "      <td>5690.0</td>\n",
       "    </tr>\n",
       "    <tr>\n",
       "      <th>2000-01-06</th>\n",
       "      <td>5750.0</td>\n",
       "      <td>5780.0</td>\n",
       "      <td>5580.0</td>\n",
       "      <td>54390000.0</td>\n",
       "      <td>5770.0</td>\n",
       "      <td>NaN</td>\n",
       "      <td>5685.0</td>\n",
       "    </tr>\n",
       "    <tr>\n",
       "      <th>2000-01-07</th>\n",
       "      <td>5560.0</td>\n",
       "      <td>5670.0</td>\n",
       "      <td>5360.0</td>\n",
       "      <td>40305000.0</td>\n",
       "      <td>5580.0</td>\n",
       "      <td>NaN</td>\n",
       "      <td>5550.0</td>\n",
       "    </tr>\n",
       "    <tr>\n",
       "      <th>2000-01-10</th>\n",
       "      <td>5600.0</td>\n",
       "      <td>5770.0</td>\n",
       "      <td>5580.0</td>\n",
       "      <td>46880000.0</td>\n",
       "      <td>5643.0</td>\n",
       "      <td>5724.0</td>\n",
       "      <td>5685.0</td>\n",
       "    </tr>\n",
       "  </tbody>\n",
       "</table>\n",
       "</div>"
      ],
      "text/plain": [
       "              Open    High     Low      Volume     MA3     MA5     Mid\n",
       "Date                                                                  \n",
       "2000-01-04  6000.0  6110.0  5660.0  74195000.0     NaN     NaN  6055.0\n",
       "2000-01-05  5800.0  6060.0  5520.0  74680000.0     NaN     NaN  5690.0\n",
       "2000-01-06  5750.0  5780.0  5580.0  54390000.0  5770.0     NaN  5685.0\n",
       "2000-01-07  5560.0  5670.0  5360.0  40305000.0  5580.0     NaN  5550.0\n",
       "2000-01-10  5600.0  5770.0  5580.0  46880000.0  5643.0  5724.0  5685.0"
      ]
     },
     "execution_count": 36,
     "metadata": {},
     "output_type": "execute_result"
    }
   ],
   "source": [
    "X = df.drop(columns=['Close', 'Adj Close'])\n",
    "y = df['Close']\n",
    "X.head()"
   ]
  },
  {
   "cell_type": "code",
   "execution_count": 37,
   "metadata": {},
   "outputs": [
    {
     "data": {
      "text/plain": [
       "Date\n",
       "2000-01-04    6110.0\n",
       "2000-01-05    5580.0\n",
       "2000-01-06    5620.0\n",
       "2000-01-07    5540.0\n",
       "2000-01-10    5770.0\n",
       "Name: Close, dtype: float64"
      ]
     },
     "execution_count": 37,
     "metadata": {},
     "output_type": "execute_result"
    }
   ],
   "source": [
    "y.head()"
   ]
  },
  {
   "cell_type": "code",
   "execution_count": 38,
   "metadata": {},
   "outputs": [
    {
     "data": {
      "text/plain": [
       "((6019, 7), (6019,))"
      ]
     },
     "execution_count": 38,
     "metadata": {},
     "output_type": "execute_result"
    }
   ],
   "source": [
    "X.shape, y.shape"
   ]
  },
  {
   "cell_type": "code",
   "execution_count": 39,
   "metadata": {},
   "outputs": [
    {
     "data": {
      "text/html": [
       "<div>\n",
       "<style scoped>\n",
       "    .dataframe tbody tr th:only-of-type {\n",
       "        vertical-align: middle;\n",
       "    }\n",
       "\n",
       "    .dataframe tbody tr th {\n",
       "        vertical-align: top;\n",
       "    }\n",
       "\n",
       "    .dataframe thead th {\n",
       "        text-align: right;\n",
       "    }\n",
       "</style>\n",
       "<table border=\"1\" class=\"dataframe\">\n",
       "  <thead>\n",
       "    <tr style=\"text-align: right;\">\n",
       "      <th></th>\n",
       "      <th>Open</th>\n",
       "      <th>High</th>\n",
       "      <th>Low</th>\n",
       "      <th>Volume</th>\n",
       "      <th>MA3</th>\n",
       "      <th>MA5</th>\n",
       "      <th>Mid</th>\n",
       "    </tr>\n",
       "    <tr>\n",
       "      <th>Date</th>\n",
       "      <th></th>\n",
       "      <th></th>\n",
       "      <th></th>\n",
       "      <th></th>\n",
       "      <th></th>\n",
       "      <th></th>\n",
       "      <th></th>\n",
       "    </tr>\n",
       "  </thead>\n",
       "  <tbody>\n",
       "    <tr>\n",
       "      <th>2000-01-04</th>\n",
       "      <td>6000.0</td>\n",
       "      <td>6110.0</td>\n",
       "      <td>5660.0</td>\n",
       "      <td>74195000.0</td>\n",
       "      <td>NaN</td>\n",
       "      <td>NaN</td>\n",
       "      <td>6055.0</td>\n",
       "    </tr>\n",
       "    <tr>\n",
       "      <th>2000-01-05</th>\n",
       "      <td>5800.0</td>\n",
       "      <td>6060.0</td>\n",
       "      <td>5520.0</td>\n",
       "      <td>74680000.0</td>\n",
       "      <td>NaN</td>\n",
       "      <td>NaN</td>\n",
       "      <td>5690.0</td>\n",
       "    </tr>\n",
       "    <tr>\n",
       "      <th>2000-01-06</th>\n",
       "      <td>5750.0</td>\n",
       "      <td>5780.0</td>\n",
       "      <td>5580.0</td>\n",
       "      <td>54390000.0</td>\n",
       "      <td>5770.0</td>\n",
       "      <td>NaN</td>\n",
       "      <td>5685.0</td>\n",
       "    </tr>\n",
       "    <tr>\n",
       "      <th>2000-01-07</th>\n",
       "      <td>5560.0</td>\n",
       "      <td>5670.0</td>\n",
       "      <td>5360.0</td>\n",
       "      <td>40305000.0</td>\n",
       "      <td>5580.0</td>\n",
       "      <td>NaN</td>\n",
       "      <td>5550.0</td>\n",
       "    </tr>\n",
       "    <tr>\n",
       "      <th>2000-01-10</th>\n",
       "      <td>5600.0</td>\n",
       "      <td>5770.0</td>\n",
       "      <td>5580.0</td>\n",
       "      <td>46880000.0</td>\n",
       "      <td>5643.0</td>\n",
       "      <td>5724.0</td>\n",
       "      <td>5685.0</td>\n",
       "    </tr>\n",
       "  </tbody>\n",
       "</table>\n",
       "</div>"
      ],
      "text/plain": [
       "              Open    High     Low      Volume     MA3     MA5     Mid\n",
       "Date                                                                  \n",
       "2000-01-04  6000.0  6110.0  5660.0  74195000.0     NaN     NaN  6055.0\n",
       "2000-01-05  5800.0  6060.0  5520.0  74680000.0     NaN     NaN  5690.0\n",
       "2000-01-06  5750.0  5780.0  5580.0  54390000.0  5770.0     NaN  5685.0\n",
       "2000-01-07  5560.0  5670.0  5360.0  40305000.0  5580.0     NaN  5550.0\n",
       "2000-01-10  5600.0  5770.0  5580.0  46880000.0  5643.0  5724.0  5685.0"
      ]
     },
     "execution_count": 39,
     "metadata": {},
     "output_type": "execute_result"
    }
   ],
   "source": [
    "from sklearn.model_selection import train_test_split\n",
    "\n",
    "X_train, X_test, y_train, y_test = train_test_split(X, y, test_size=0.2, shuffle=False)\n",
    "\n",
    "X_train.head()"
   ]
  },
  {
   "cell_type": "code",
   "execution_count": 40,
   "metadata": {},
   "outputs": [
    {
     "data": {
      "text/html": [
       "<div>\n",
       "<style scoped>\n",
       "    .dataframe tbody tr th:only-of-type {\n",
       "        vertical-align: middle;\n",
       "    }\n",
       "\n",
       "    .dataframe tbody tr th {\n",
       "        vertical-align: top;\n",
       "    }\n",
       "\n",
       "    .dataframe thead th {\n",
       "        text-align: right;\n",
       "    }\n",
       "</style>\n",
       "<table border=\"1\" class=\"dataframe\">\n",
       "  <thead>\n",
       "    <tr style=\"text-align: right;\">\n",
       "      <th></th>\n",
       "      <th>Open</th>\n",
       "      <th>High</th>\n",
       "      <th>Low</th>\n",
       "      <th>Volume</th>\n",
       "      <th>MA3</th>\n",
       "      <th>MA5</th>\n",
       "      <th>Mid</th>\n",
       "    </tr>\n",
       "    <tr>\n",
       "      <th>Date</th>\n",
       "      <th></th>\n",
       "      <th></th>\n",
       "      <th></th>\n",
       "      <th></th>\n",
       "      <th></th>\n",
       "      <th></th>\n",
       "      <th></th>\n",
       "    </tr>\n",
       "  </thead>\n",
       "  <tbody>\n",
       "    <tr>\n",
       "      <th>2019-02-15</th>\n",
       "      <td>46750.0</td>\n",
       "      <td>46850.0</td>\n",
       "      <td>45650.0</td>\n",
       "      <td>10554643.0</td>\n",
       "      <td>46583.0</td>\n",
       "      <td>46160.0</td>\n",
       "      <td>46400.0</td>\n",
       "    </tr>\n",
       "    <tr>\n",
       "      <th>2019-02-18</th>\n",
       "      <td>46500.0</td>\n",
       "      <td>46850.0</td>\n",
       "      <td>45850.0</td>\n",
       "      <td>8183728.0</td>\n",
       "      <td>46583.0</td>\n",
       "      <td>46400.0</td>\n",
       "      <td>46350.0</td>\n",
       "    </tr>\n",
       "    <tr>\n",
       "      <th>2019-02-19</th>\n",
       "      <td>45850.0</td>\n",
       "      <td>46150.0</td>\n",
       "      <td>45450.0</td>\n",
       "      <td>6741395.0</td>\n",
       "      <td>46067.0</td>\n",
       "      <td>46380.0</td>\n",
       "      <td>45900.0</td>\n",
       "    </tr>\n",
       "    <tr>\n",
       "      <th>2019-02-20</th>\n",
       "      <td>46750.0</td>\n",
       "      <td>47100.0</td>\n",
       "      <td>46500.0</td>\n",
       "      <td>11506720.0</td>\n",
       "      <td>46350.0</td>\n",
       "      <td>46520.0</td>\n",
       "      <td>46825.0</td>\n",
       "    </tr>\n",
       "    <tr>\n",
       "      <th>2019-02-21</th>\n",
       "      <td>46500.0</td>\n",
       "      <td>47200.0</td>\n",
       "      <td>46200.0</td>\n",
       "      <td>8694009.0</td>\n",
       "      <td>46600.0</td>\n",
       "      <td>46410.0</td>\n",
       "      <td>46725.0</td>\n",
       "    </tr>\n",
       "  </tbody>\n",
       "</table>\n",
       "</div>"
      ],
      "text/plain": [
       "               Open     High      Low      Volume      MA3      MA5      Mid\n",
       "Date                                                                        \n",
       "2019-02-15  46750.0  46850.0  45650.0  10554643.0  46583.0  46160.0  46400.0\n",
       "2019-02-18  46500.0  46850.0  45850.0   8183728.0  46583.0  46400.0  46350.0\n",
       "2019-02-19  45850.0  46150.0  45450.0   6741395.0  46067.0  46380.0  45900.0\n",
       "2019-02-20  46750.0  47100.0  46500.0  11506720.0  46350.0  46520.0  46825.0\n",
       "2019-02-21  46500.0  47200.0  46200.0   8694009.0  46600.0  46410.0  46725.0"
      ]
     },
     "execution_count": 40,
     "metadata": {},
     "output_type": "execute_result"
    }
   ],
   "source": [
    "X_test.head()"
   ]
  },
  {
   "cell_type": "code",
   "execution_count": 41,
   "metadata": {},
   "outputs": [
    {
     "name": "stdout",
     "output_type": "stream",
     "text": [
      "(4815, 7) (1204, 7) (4815,) (1204,)\n"
     ]
    }
   ],
   "source": [
    "print(X_train.shape, X_test.shape, y_train.shape, y_test.shape)"
   ]
  },
  {
   "cell_type": "code",
   "execution_count": 42,
   "metadata": {},
   "outputs": [],
   "source": [
    "def make_sequence_dataset(X, y, window_size):           # *RNN에 맞게 input을 변경*\n",
    "    feature_list = []\n",
    "    label_list = []\n",
    "\n",
    "    for i in range(len(X)-window_size):\n",
    "        feature_list.append(X[i:i+window_size])\n",
    "        label_list.append(y[i+window_size])\n",
    "\n",
    "    return np.array(feature_list), np.array(label_list)"
   ]
  },
  {
   "cell_type": "code",
   "execution_count": 43,
   "metadata": {},
   "outputs": [
    {
     "name": "stdout",
     "output_type": "stream",
     "text": [
      "(4697, 7) (4697,)\n"
     ]
    }
   ],
   "source": [
    "# 결측치\n",
    "\n",
    "X_train = X_train.dropna()\n",
    "y_train = y_train[X_train.index]\n",
    "print(X_train.shape, y_train.shape)"
   ]
  },
  {
   "cell_type": "code",
   "execution_count": 44,
   "metadata": {},
   "outputs": [
    {
     "data": {
      "text/plain": [
       "array([[0.05567686, 0.05496713, 0.05815237, 0.28535907, 0.0527386 ,\n",
       "        0.05379382, 0.05573321],\n",
       "       [0.05967977, 0.06099343, 0.06164888, 0.36371468, 0.05366286,\n",
       "        0.05252983, 0.05774326],\n",
       "       [0.05585881, 0.05441928, 0.05852043, 0.17779902, 0.05477198,\n",
       "        0.0530503 , 0.05536775],\n",
       "       [0.05567686, 0.05441928, 0.05778432, 0.25070354, 0.05440228,\n",
       "        0.05338488, 0.05518502],\n",
       "       [0.05786026, 0.05697589, 0.05999264, 0.30055513, 0.05477198,\n",
       "        0.05446299, 0.0573778 ]])"
      ]
     },
     "execution_count": 44,
     "metadata": {},
     "output_type": "execute_result"
    }
   ],
   "source": [
    "# Normalization\n",
    "\n",
    "from sklearn.preprocessing import MinMaxScaler\n",
    "scaler = MinMaxScaler()\n",
    "X_train_s = scaler.fit_transform(X_train)\n",
    "X_train_s[:5]"
   ]
  },
  {
   "cell_type": "code",
   "execution_count": 45,
   "metadata": {},
   "outputs": [
    {
     "name": "stdout",
     "output_type": "stream",
     "text": [
      "(4677, 20, 7) (4677,)\n"
     ]
    },
    {
     "name": "stderr",
     "output_type": "stream",
     "text": [
      "C:\\Users\\root\\AppData\\Local\\Temp\\ipykernel_2872\\1623205690.py:7: FutureWarning: Series.__getitem__ treating keys as positions is deprecated. In a future version, integer keys will always be treated as labels (consistent with DataFrame behavior). To access a value by position, use `ser.iloc[pos]`\n",
      "  label_list.append(y[i+window_size])\n"
     ]
    }
   ],
   "source": [
    "X_train, y_train = make_sequence_dataset(X_train_s, y_train, 20)\n",
    "print(X_train.shape, y_train.shape)\n",
    "# (4677, 20, 7) (4677,)  (데이터의갯수, window size(time step), features)"
   ]
  },
  {
   "cell_type": "markdown",
   "metadata": {},
   "source": [
    "### Model"
   ]
  },
  {
   "cell_type": "code",
   "execution_count": 46,
   "metadata": {},
   "outputs": [
    {
     "name": "stdout",
     "output_type": "stream",
     "text": [
      "Model: \"sequential_1\"\n",
      "_________________________________________________________________\n",
      " Layer (type)                Output Shape              Param #   \n",
      "=================================================================\n",
      " lstm_1 (LSTM)               (None, 128)               69632     \n",
      "                                                                 \n",
      " dense_1 (Dense)             (None, 1)                 129       \n",
      "                                                                 \n",
      "=================================================================\n",
      "Total params: 69,761\n",
      "Trainable params: 69,761\n",
      "Non-trainable params: 0\n",
      "_________________________________________________________________\n"
     ]
    }
   ],
   "source": [
    "from keras import layers\n",
    "\n",
    "model = keras.Sequential([\n",
    "    layers.LSTM(units = 128, activation = 'tanh', input_shape = (20, 7)),\n",
    "    layers.Dense(1)         # \"가격\"을 예측하는것이기 때문에 출력값은 activation이 필요없음\n",
    "])\n",
    "\n",
    "model.summary()"
   ]
  },
  {
   "cell_type": "code",
   "execution_count": 47,
   "metadata": {},
   "outputs": [],
   "source": [
    "from keras import optimizers\n",
    "\n",
    "model.compile(\n",
    "    optimizer='rmsprop',\n",
    "    loss=\"mse\",\n",
    "    metrics=['mse']\n",
    ")"
   ]
  },
  {
   "cell_type": "code",
   "execution_count": 48,
   "metadata": {},
   "outputs": [
    {
     "name": "stdout",
     "output_type": "stream",
     "text": [
      "Epoch 1/50\n"
     ]
    },
    {
     "name": "stdout",
     "output_type": "stream",
     "text": [
      "59/59 [==============================] - 2s 20ms/step - loss: 256832208.0000 - mse: 256832208.0000 - val_loss: 1525005952.0000 - val_mse: 1525005952.0000\n",
      "Epoch 2/50\n",
      "59/59 [==============================] - 1s 13ms/step - loss: 256556896.0000 - mse: 256556896.0000 - val_loss: 1524434048.0000 - val_mse: 1524434048.0000\n",
      "Epoch 3/50\n",
      "59/59 [==============================] - 1s 13ms/step - loss: 256342064.0000 - mse: 256342064.0000 - val_loss: 1523859200.0000 - val_mse: 1523859200.0000\n",
      "Epoch 4/50\n",
      "59/59 [==============================] - 1s 10ms/step - loss: 256127296.0000 - mse: 256127296.0000 - val_loss: 1523287040.0000 - val_mse: 1523287040.0000\n",
      "Epoch 5/50\n",
      "59/59 [==============================] - 1s 9ms/step - loss: 255915168.0000 - mse: 255915168.0000 - val_loss: 1522719744.0000 - val_mse: 1522719744.0000\n",
      "Epoch 6/50\n",
      "59/59 [==============================] - 1s 9ms/step - loss: 255703536.0000 - mse: 255703536.0000 - val_loss: 1522155264.0000 - val_mse: 1522155264.0000\n",
      "Epoch 7/50\n",
      "59/59 [==============================] - 1s 11ms/step - loss: 255491392.0000 - mse: 255491392.0000 - val_loss: 1521588096.0000 - val_mse: 1521588096.0000\n",
      "Epoch 8/50\n",
      "59/59 [==============================] - 1s 12ms/step - loss: 255280544.0000 - mse: 255280544.0000 - val_loss: 1521021056.0000 - val_mse: 1521021056.0000\n",
      "Epoch 9/50\n",
      "59/59 [==============================] - 1s 10ms/step - loss: 255066368.0000 - mse: 255066368.0000 - val_loss: 1520443008.0000 - val_mse: 1520443008.0000\n",
      "Epoch 10/50\n",
      "59/59 [==============================] - 1s 9ms/step - loss: 254851728.0000 - mse: 254851728.0000 - val_loss: 1519871360.0000 - val_mse: 1519871360.0000\n",
      "Epoch 11/50\n",
      "59/59 [==============================] - 1s 10ms/step - loss: 254638496.0000 - mse: 254638496.0000 - val_loss: 1519302272.0000 - val_mse: 1519302272.0000\n",
      "Epoch 12/50\n",
      "59/59 [==============================] - 1s 10ms/step - loss: 254426688.0000 - mse: 254426688.0000 - val_loss: 1518732672.0000 - val_mse: 1518732672.0000\n",
      "Epoch 13/50\n",
      "59/59 [==============================] - 0s 8ms/step - loss: 254213792.0000 - mse: 254213792.0000 - val_loss: 1518164224.0000 - val_mse: 1518164224.0000\n",
      "Epoch 14/50\n",
      "59/59 [==============================] - 1s 9ms/step - loss: 254002032.0000 - mse: 254002032.0000 - val_loss: 1517592448.0000 - val_mse: 1517592448.0000\n",
      "Epoch 15/50\n",
      "59/59 [==============================] - 1s 9ms/step - loss: 253789072.0000 - mse: 253789072.0000 - val_loss: 1517024384.0000 - val_mse: 1517024384.0000\n",
      "Epoch 16/50\n",
      "59/59 [==============================] - 1s 12ms/step - loss: 253576448.0000 - mse: 253576448.0000 - val_loss: 1516449408.0000 - val_mse: 1516449408.0000\n",
      "Epoch 17/50\n",
      "59/59 [==============================] - 1s 9ms/step - loss: 253364384.0000 - mse: 253364384.0000 - val_loss: 1515884032.0000 - val_mse: 1515884032.0000\n",
      "Epoch 18/50\n",
      "59/59 [==============================] - 1s 9ms/step - loss: 253152400.0000 - mse: 253152400.0000 - val_loss: 1515314048.0000 - val_mse: 1515314048.0000\n",
      "Epoch 19/50\n",
      "59/59 [==============================] - 1s 9ms/step - loss: 252940352.0000 - mse: 252940352.0000 - val_loss: 1514743040.0000 - val_mse: 1514743040.0000\n",
      "Epoch 20/50\n",
      "59/59 [==============================] - 1s 10ms/step - loss: 252729008.0000 - mse: 252729008.0000 - val_loss: 1514174720.0000 - val_mse: 1514174720.0000\n",
      "Epoch 21/50\n",
      "59/59 [==============================] - 1s 9ms/step - loss: 252516032.0000 - mse: 252516032.0000 - val_loss: 1513603200.0000 - val_mse: 1513603200.0000\n",
      "Epoch 22/50\n",
      "59/59 [==============================] - 1s 9ms/step - loss: 252304912.0000 - mse: 252304912.0000 - val_loss: 1513034496.0000 - val_mse: 1513034496.0000\n",
      "Epoch 23/50\n",
      "59/59 [==============================] - 1s 10ms/step - loss: 252093424.0000 - mse: 252093424.0000 - val_loss: 1512464512.0000 - val_mse: 1512464512.0000\n",
      "Epoch 24/50\n",
      "59/59 [==============================] - 1s 12ms/step - loss: 251881472.0000 - mse: 251881472.0000 - val_loss: 1511896192.0000 - val_mse: 1511896192.0000\n",
      "Epoch 25/50\n",
      "59/59 [==============================] - 1s 11ms/step - loss: 251670576.0000 - mse: 251670576.0000 - val_loss: 1511327232.0000 - val_mse: 1511327232.0000\n",
      "Epoch 26/50\n",
      "59/59 [==============================] - 1s 9ms/step - loss: 251459488.0000 - mse: 251459488.0000 - val_loss: 1510760064.0000 - val_mse: 1510760064.0000\n",
      "Epoch 27/50\n",
      "59/59 [==============================] - 1s 9ms/step - loss: 251248928.0000 - mse: 251248928.0000 - val_loss: 1510191616.0000 - val_mse: 1510191616.0000\n",
      "Epoch 28/50\n",
      "59/59 [==============================] - 1s 11ms/step - loss: 251037392.0000 - mse: 251037392.0000 - val_loss: 1509622144.0000 - val_mse: 1509622144.0000\n",
      "Epoch 29/50\n",
      "59/59 [==============================] - 1s 9ms/step - loss: 250826736.0000 - mse: 250826736.0000 - val_loss: 1509051392.0000 - val_mse: 1509051392.0000\n",
      "Epoch 30/50\n",
      "59/59 [==============================] - 1s 9ms/step - loss: 250615552.0000 - mse: 250615552.0000 - val_loss: 1508485760.0000 - val_mse: 1508485760.0000\n",
      "Epoch 31/50\n",
      "59/59 [==============================] - 1s 9ms/step - loss: 250405344.0000 - mse: 250405344.0000 - val_loss: 1507915904.0000 - val_mse: 1507915904.0000\n",
      "Epoch 32/50\n",
      "59/59 [==============================] - 1s 10ms/step - loss: 250194336.0000 - mse: 250194336.0000 - val_loss: 1507347456.0000 - val_mse: 1507347456.0000\n",
      "Epoch 33/50\n",
      "59/59 [==============================] - 1s 9ms/step - loss: 249985168.0000 - mse: 249985168.0000 - val_loss: 1506782464.0000 - val_mse: 1506782464.0000\n",
      "Epoch 34/50\n",
      "59/59 [==============================] - 1s 9ms/step - loss: 249775056.0000 - mse: 249775056.0000 - val_loss: 1506214144.0000 - val_mse: 1506214144.0000\n",
      "Epoch 35/50\n",
      "59/59 [==============================] - 1s 9ms/step - loss: 249564256.0000 - mse: 249564256.0000 - val_loss: 1505646080.0000 - val_mse: 1505646080.0000\n",
      "Epoch 36/50\n",
      "59/59 [==============================] - 1s 11ms/step - loss: 249353712.0000 - mse: 249353712.0000 - val_loss: 1505077376.0000 - val_mse: 1505077376.0000\n",
      "Epoch 37/50\n",
      "59/59 [==============================] - 1s 9ms/step - loss: 249144448.0000 - mse: 249144448.0000 - val_loss: 1504512512.0000 - val_mse: 1504512512.0000\n",
      "Epoch 38/50\n",
      "59/59 [==============================] - 1s 9ms/step - loss: 248934704.0000 - mse: 248934704.0000 - val_loss: 1503943808.0000 - val_mse: 1503943808.0000\n",
      "Epoch 39/50\n",
      "59/59 [==============================] - 1s 9ms/step - loss: 248724864.0000 - mse: 248724864.0000 - val_loss: 1503376384.0000 - val_mse: 1503376384.0000\n",
      "Epoch 40/50\n",
      "59/59 [==============================] - 1s 11ms/step - loss: 248515408.0000 - mse: 248515408.0000 - val_loss: 1502808448.0000 - val_mse: 1502808448.0000\n",
      "Epoch 41/50\n",
      "59/59 [==============================] - 1s 11ms/step - loss: 248305872.0000 - mse: 248305872.0000 - val_loss: 1502241408.0000 - val_mse: 1502241408.0000\n",
      "Epoch 42/50\n",
      "59/59 [==============================] - 1s 10ms/step - loss: 248096768.0000 - mse: 248096768.0000 - val_loss: 1501677568.0000 - val_mse: 1501677568.0000\n",
      "Epoch 43/50\n",
      "59/59 [==============================] - 1s 9ms/step - loss: 247887248.0000 - mse: 247887248.0000 - val_loss: 1501105664.0000 - val_mse: 1501105664.0000\n",
      "Epoch 44/50\n",
      "59/59 [==============================] - 1s 10ms/step - loss: 247678432.0000 - mse: 247678432.0000 - val_loss: 1500542464.0000 - val_mse: 1500542464.0000\n",
      "Epoch 45/50\n",
      "59/59 [==============================] - 1s 10ms/step - loss: 247468752.0000 - mse: 247468752.0000 - val_loss: 1499974528.0000 - val_mse: 1499974528.0000\n",
      "Epoch 46/50\n",
      "59/59 [==============================] - 1s 9ms/step - loss: 247260880.0000 - mse: 247260880.0000 - val_loss: 1499409152.0000 - val_mse: 1499409152.0000\n",
      "Epoch 47/50\n",
      "59/59 [==============================] - 1s 9ms/step - loss: 247052480.0000 - mse: 247052480.0000 - val_loss: 1498845312.0000 - val_mse: 1498845312.0000\n",
      "Epoch 48/50\n",
      "59/59 [==============================] - 1s 9ms/step - loss: 246842464.0000 - mse: 246842464.0000 - val_loss: 1498274688.0000 - val_mse: 1498274688.0000\n",
      "Epoch 49/50\n",
      "59/59 [==============================] - 1s 10ms/step - loss: 246635456.0000 - mse: 246635456.0000 - val_loss: 1497711872.0000 - val_mse: 1497711872.0000\n",
      "Epoch 50/50\n",
      "59/59 [==============================] - 1s 9ms/step - loss: 246426784.0000 - mse: 246426784.0000 - val_loss: 1497146752.0000 - val_mse: 1497146752.0000\n"
     ]
    }
   ],
   "source": [
    "EPOCHS = 50\n",
    "BATCH_SIZE = 64\n",
    "\n",
    "history = model.fit(\n",
    "    X_train, y_train,\n",
    "    epochs = EPOCHS,\n",
    "    batch_size = BATCH_SIZE,\n",
    "    validation_split=0.2,\n",
    "    verbose=1\n",
    ")"
   ]
  },
  {
   "cell_type": "code",
   "execution_count": 49,
   "metadata": {},
   "outputs": [
    {
     "data": {
      "image/png": "[encoded data removed]",
      "text/plain": [
       "<Figure size 800x600 with 1 Axes>"
      ]
     },
     "metadata": {},
     "output_type": "display_data"
    }
   ],
   "source": [
    "def plot_history(history):\n",
    "    hist = pd.DataFrame(history.history)\n",
    "    hist['epoch'] = history.epoch\n",
    "\n",
    "    plt.figure(figsize = (8,6))\n",
    "    plt.xlabel('epoch')\n",
    "    plt.ylabel('loss')\n",
    "    plt.plot(hist['epoch'], hist['loss'], label='train loss')\n",
    "    plt.plot(hist['epoch'], hist['val_loss'], label='val loss')\n",
    "    plt.legend()\n",
    "\n",
    "    plt.show()\n",
    "\n",
    "plot_history(history)"
   ]
  },
  {
   "cell_type": "markdown",
   "metadata": {},
   "source": [
    "### Pred"
   ]
  },
  {
   "cell_type": "code",
   "execution_count": 51,
   "metadata": {},
   "outputs": [
    {
     "name": "stdout",
     "output_type": "stream",
     "text": [
      "(1191, 7) (1191,)\n"
     ]
    }
   ],
   "source": [
    "X_test = X_test.dropna()\n",
    "y_test = y_test[X_test.index]\n",
    "\n",
    "print(X_test.shape, y_test.shape)"
   ]
  },
  {
   "cell_type": "code",
   "execution_count": 52,
   "metadata": {},
   "outputs": [],
   "source": [
    "X_test_s = scaler.transform(X_test)"
   ]
  },
  {
   "cell_type": "code",
   "execution_count": 53,
   "metadata": {},
   "outputs": [
    {
     "name": "stdout",
     "output_type": "stream",
     "text": [
      "(1171, 20, 7) (1171,)\n"
     ]
    },
    {
     "name": "stderr",
     "output_type": "stream",
     "text": [
      "C:\\Users\\root\\AppData\\Local\\Temp\\ipykernel_2872\\1623205690.py:7: FutureWarning: Series.__getitem__ treating keys as positions is deprecated. In a future version, integer keys will always be treated as labels (consistent with DataFrame behavior). To access a value by position, use `ser.iloc[pos]`\n",
      "  label_list.append(y[i+window_size])\n"
     ]
    }
   ],
   "source": [
    "X_test, y_test = make_sequence_dataset(X_test_s, y_test, 20)\n",
    "print(X_test.shape, y_test.shape)"
   ]
  },
  {
   "cell_type": "code",
   "execution_count": 54,
   "metadata": {},
   "outputs": [
    {
     "name": "stdout",
     "output_type": "stream",
     "text": [
      "37/37 [==============================] - 0s 3ms/step\n"
     ]
    },
    {
     "data": {
      "text/plain": [
       "(1171, 1)"
      ]
     },
     "execution_count": 54,
     "metadata": {},
     "output_type": "execute_result"
    }
   ],
   "source": [
    "y_pred = model.predict(X_test)\n",
    "y_pred.shape"
   ]
  },
  {
   "cell_type": "code",
   "execution_count": 55,
   "metadata": {},
   "outputs": [
    {
     "data": {
      "text/plain": [
       "array([[393.77863],\n",
       "       [393.77863],\n",
       "       [393.77863],\n",
       "       ...,\n",
       "       [393.77655],\n",
       "       [393.7765 ],\n",
       "       [393.7763 ]], dtype=float32)"
      ]
     },
     "execution_count": 55,
     "metadata": {},
     "output_type": "execute_result"
    }
   ],
   "source": [
    "y_pred"
   ]
  },
  {
   "cell_type": "code",
   "execution_count": 56,
   "metadata": {},
   "outputs": [
    {
     "data": {
      "image/png": "[encoded data removed]",
      "text/plain": [
       "<Figure size 1000x500 with 1 Axes>"
      ]
     },
     "metadata": {},
     "output_type": "display_data"
    }
   ],
   "source": [
    "plt.figure(figsize=(10,5))\n",
    "plt.plot(y_test, label='true')\n",
    "plt.plot(y_pred, label='pred')\n",
    "plt.legend()\n",
    "plt.show()"
   ]
  },
  {
   "cell_type": "code",
   "execution_count": null,
   "metadata": {},
   "outputs": [],
   "source": []
  }
 ],
 "metadata": {
  "kernelspec": {
   "display_name": "tensorflow",
   "language": "python",
   "name": "python3"
  },
  "language_info": {
   "codemirror_mode": {
    "name": "ipython",
    "version": 3
   },
   "file_extension": ".py",
   "mimetype": "text/x-python",
   "name": "python",
   "nbconvert_exporter": "python",
   "pygments_lexer": "ipython3",
   "version": "3.10.13"
  }
 },
 "nbformat": 4,
 "nbformat_minor": 2
}
