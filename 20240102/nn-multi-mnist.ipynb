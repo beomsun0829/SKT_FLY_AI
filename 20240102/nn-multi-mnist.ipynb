{
 "cells": [
  {
   "cell_type": "code",
   "execution_count": 41,
   "metadata": {},
   "outputs": [],
   "source": [
    "import numpy as np\n",
    "import pandas as pd\n",
    "import matplotlib.pyplot as plt\n",
    "\n",
    "import tensorflow as tf\n",
    "from tensorflow import keras"
   ]
  },
  {
   "cell_type": "code",
   "execution_count": 42,
   "metadata": {},
   "outputs": [
    {
     "name": "stdout",
     "output_type": "stream",
     "text": [
      "(60000, 28, 28) (10000, 28, 28)\n",
      "(60000,) (10000,)\n"
     ]
    }
   ],
   "source": [
    "from keras.datasets import mnist\n",
    "\n",
    "(X_train, y_train), (X_test, y_test) = mnist.load_data()\n",
    "print(X_train.shape, X_test.shape)  # (60000, 28, 28) (10000, 28, 28) : (이미지갯수, 28x28 픽셀, 컬러축이 없으므로 흑백이미지)\n",
    "print(y_train.shape, y_test.shape)  # (60000,) (10000,)"
   ]
  },
  {
   "cell_type": "code",
   "execution_count": 43,
   "metadata": {},
   "outputs": [
    {
     "name": "stdout",
     "output_type": "stream",
     "text": [
      "<class 'numpy.ndarray'>\n"
     ]
    },
    {
     "data": {
      "text/plain": [
       "array([5, 0, 4, 1, 9, 2, 1, 3, 1, 4], dtype=uint8)"
      ]
     },
     "execution_count": 43,
     "metadata": {},
     "output_type": "execute_result"
    }
   ],
   "source": [
    "print(type(y_train))\n",
    "y_train[:10]"
   ]
  },
  {
   "cell_type": "code",
   "execution_count": 44,
   "metadata": {},
   "outputs": [
    {
     "data": {
      "text/plain": [
       "0    5923\n",
       "1    6742\n",
       "2    5958\n",
       "3    6131\n",
       "4    5842\n",
       "5    5421\n",
       "6    5918\n",
       "7    6265\n",
       "8    5851\n",
       "9    5949\n",
       "Name: count, dtype: int64"
      ]
     },
     "execution_count": 44,
     "metadata": {},
     "output_type": "execute_result"
    }
   ],
   "source": [
    "# ndarray이므로 value counts 를 쓰기 위해 series로 변경\n",
    "pd.Series(y_train).value_counts().sort_index()"
   ]
  },
  {
   "cell_type": "code",
   "execution_count": 45,
   "metadata": {},
   "outputs": [
    {
     "name": "stdout",
     "output_type": "stream",
     "text": [
      "[29502  6705 58102 34469 44733 29737 40827 52608 12856 35866  1428 23464\n",
      " 58936 28875 34179 14368]\n"
     ]
    },
    {
     "data": {
      "image/png": "[encoded data removed]",
      "text/plain": [
       "<Figure size 800x800 with 16 Axes>"
      ]
     },
     "metadata": {},
     "output_type": "display_data"
    }
   ],
   "source": [
    "samples = np.random.randint(60000, size = 16)\n",
    "print(samples)\n",
    "\n",
    "plt.figure(figsize = (8, 8))    # size는 inch\n",
    "for i, idx in enumerate(samples):\n",
    "    plt.subplot(4, 4, i+1)      # matplotlib의 첫번째는 1\n",
    "    plt.imshow(X_train[idx], cmap='gray')\n",
    "    plt.axis('off')\n",
    "    plt.title(y_train[idx])\n",
    "plt.show()"
   ]
  },
  {
   "cell_type": "markdown",
   "metadata": {},
   "source": [
    "### Split validation data"
   ]
  },
  {
   "cell_type": "code",
   "execution_count": 46,
   "metadata": {},
   "outputs": [
    {
     "name": "stdout",
     "output_type": "stream",
     "text": [
      "(42000, 28, 28) (18000, 28, 28) (10000, 28, 28)\n",
      "(42000,) (18000,) (10000,)\n"
     ]
    }
   ],
   "source": [
    "from sklearn.model_selection import train_test_split\n",
    "\n",
    "X_train, X_val, y_train, y_val = train_test_split(X_train, y_train, test_size = 0.3, random_state=42)\n",
    "\n",
    "print(X_train.shape, X_val.shape, X_test.shape)\n",
    "print(y_train.shape, y_val.shape, y_test.shape)"
   ]
  },
  {
   "cell_type": "markdown",
   "metadata": {},
   "source": [
    "### Normalization"
   ]
  },
  {
   "cell_type": "code",
   "execution_count": 47,
   "metadata": {},
   "outputs": [],
   "source": [
    "X_train_s = X_train.astype('float32')/255.\n",
    "X_val_s = X_val.astype('float32')/255."
   ]
  },
  {
   "cell_type": "code",
   "execution_count": 48,
   "metadata": {},
   "outputs": [
    {
     "data": {
      "text/plain": [
       "(1.0, 0.0)"
      ]
     },
     "execution_count": 48,
     "metadata": {},
     "output_type": "execute_result"
    }
   ],
   "source": [
    "np.max(X_train_s), np.min(X_train_s)"
   ]
  },
  {
   "cell_type": "markdown",
   "metadata": {},
   "source": [
    "### Label(Target) one-hot Encoding"
   ]
  },
  {
   "cell_type": "code",
   "execution_count": 49,
   "metadata": {},
   "outputs": [
    {
     "name": "stdout",
     "output_type": "stream",
     "text": [
      "[[0. 0. 0. 0. 0. 0. 0. 1. 0. 0.]\n",
      " [0. 0. 0. 0. 1. 0. 0. 0. 0. 0.]\n",
      " [0. 0. 0. 0. 0. 1. 0. 0. 0. 0.]\n",
      " [1. 0. 0. 0. 0. 0. 0. 0. 0. 0.]\n",
      " [0. 1. 0. 0. 0. 0. 0. 0. 0. 0.]]\n"
     ]
    }
   ],
   "source": [
    "from keras.utils import to_categorical\n",
    "\n",
    "y_train_o = to_categorical(y_train)\n",
    "y_val_o = to_categorical(y_val)\n",
    "\n",
    "print(y_train_o[:5])"
   ]
  },
  {
   "cell_type": "markdown",
   "metadata": {},
   "source": [
    "### Flatten"
   ]
  },
  {
   "cell_type": "code",
   "execution_count": 50,
   "metadata": {},
   "outputs": [
    {
     "name": "stdout",
     "output_type": "stream",
     "text": [
      "(42000, 784) (18000, 784)\n"
     ]
    }
   ],
   "source": [
    "X_train_s = X_train_s.reshape(-1, 28*28)\n",
    "X_val_s = X_val_s.reshape(-1, 28*28)\n",
    "\n",
    "print(X_train_s.shape, X_val_s.shape)"
   ]
  },
  {
   "cell_type": "markdown",
   "metadata": {},
   "source": [
    "### Model"
   ]
  },
  {
   "cell_type": "code",
   "execution_count": 51,
   "metadata": {},
   "outputs": [],
   "source": [
    "from keras import layers\n",
    "\n",
    "model = keras.Sequential([\n",
    "    layers.Dense(units = 64, activation = 'relu', input_shape = (28*28, )),     # input은 image size\n",
    "    layers.Dense(units = 32, activation = 'relu'),\n",
    "    layers.Dense(units = 16, activation = 'relu'),\n",
    "    layers.Dense(units = 10, activation='softmax')    # 출력 class가 10   \n",
    "])"
   ]
  },
  {
   "cell_type": "code",
   "execution_count": 52,
   "metadata": {},
   "outputs": [
    {
     "name": "stdout",
     "output_type": "stream",
     "text": [
      "Model: \"sequential_2\"\n",
      "_________________________________________________________________\n",
      " Layer (type)                Output Shape              Param #   \n",
      "=================================================================\n",
      " dense_8 (Dense)             (None, 64)                50240     \n",
      "                                                                 \n",
      " dense_9 (Dense)             (None, 32)                2080      \n",
      "                                                                 \n",
      " dense_10 (Dense)            (None, 16)                528       \n",
      "                                                                 \n",
      " dense_11 (Dense)            (None, 10)                170       \n",
      "                                                                 \n",
      "=================================================================\n",
      "Total params: 53018 (207.10 KB)\n",
      "Trainable params: 53018 (207.10 KB)\n",
      "Non-trainable params: 0 (0.00 Byte)\n",
      "_________________________________________________________________\n"
     ]
    }
   ],
   "source": [
    "model.summary()"
   ]
  },
  {
   "cell_type": "markdown",
   "metadata": {},
   "source": [
    "### Train"
   ]
  },
  {
   "cell_type": "code",
   "execution_count": 53,
   "metadata": {},
   "outputs": [],
   "source": [
    "model.compile(\n",
    "    optimizer='adam',\n",
    "    loss='categorical_crossentropy',\n",
    "    metrics=['accuracy']\n",
    ")"
   ]
  },
  {
   "cell_type": "code",
   "execution_count": 54,
   "metadata": {},
   "outputs": [
    {
     "name": "stdout",
     "output_type": "stream",
     "text": [
      "Epoch 1/10\n"
     ]
    },
    {
     "name": "stdout",
     "output_type": "stream",
     "text": [
      "1313/1313 [==============================] - 2s 1ms/step - loss: 0.3936 - accuracy: 0.8854 - val_loss: 0.2562 - val_accuracy: 0.9245\n",
      "Epoch 2/10\n",
      "1313/1313 [==============================] - 2s 1ms/step - loss: 0.1750 - accuracy: 0.9496 - val_loss: 0.1667 - val_accuracy: 0.9528\n",
      "Epoch 3/10\n",
      "1313/1313 [==============================] - 2s 1ms/step - loss: 0.1301 - accuracy: 0.9610 - val_loss: 0.1577 - val_accuracy: 0.9537\n",
      "Epoch 4/10\n",
      "1313/1313 [==============================] - 2s 1ms/step - loss: 0.0999 - accuracy: 0.9701 - val_loss: 0.1402 - val_accuracy: 0.9584\n",
      "Epoch 5/10\n",
      "1313/1313 [==============================] - 2s 1ms/step - loss: 0.0816 - accuracy: 0.9743 - val_loss: 0.1191 - val_accuracy: 0.9648\n",
      "Epoch 6/10\n",
      "1313/1313 [==============================] - 2s 1ms/step - loss: 0.0668 - accuracy: 0.9790 - val_loss: 0.1170 - val_accuracy: 0.9665\n",
      "Epoch 7/10\n",
      "1313/1313 [==============================] - 2s 1ms/step - loss: 0.0567 - accuracy: 0.9823 - val_loss: 0.1285 - val_accuracy: 0.9622\n",
      "Epoch 8/10\n",
      "1313/1313 [==============================] - 2s 1ms/step - loss: 0.0488 - accuracy: 0.9844 - val_loss: 0.1336 - val_accuracy: 0.9632\n",
      "Epoch 9/10\n",
      "1313/1313 [==============================] - 2s 1ms/step - loss: 0.0422 - accuracy: 0.9860 - val_loss: 0.1262 - val_accuracy: 0.9666\n",
      "Epoch 10/10\n",
      "1313/1313 [==============================] - 2s 1ms/step - loss: 0.0375 - accuracy: 0.9879 - val_loss: 0.1193 - val_accuracy: 0.9681\n"
     ]
    }
   ],
   "source": [
    "EPOCHS = 10\n",
    "BATCH_SIZE = 32\n",
    "\n",
    "history = model.fit(\n",
    "    X_train_s, y_train_o,\n",
    "    epochs = EPOCHS,\n",
    "    batch_size = BATCH_SIZE,\n",
    "    validation_data = (X_val_s, y_val_o),\n",
    "    verbose = 1\n",
    ")"
   ]
  },
  {
   "cell_type": "code",
   "execution_count": 56,
   "metadata": {},
   "outputs": [
    {
     "data": {
      "image/png": "[encoded data removed]",
      "text/plain": [
       "<Figure size 1600x800 with 2 Axes>"
      ]
     },
     "metadata": {},
     "output_type": "display_data"
    }
   ],
   "source": [
    "def plot_history(history):\n",
    "    hist = pd.DataFrame(history.history)\n",
    "    hist['epoch'] = history.epoch\n",
    "\n",
    "    plt.figure(figsize = (16,8))\n",
    "    plt.subplot(1,2,1)\n",
    "    plt.xlabel('epoch')\n",
    "    plt.ylabel('loss')\n",
    "    plt.plot(hist['epoch'], hist['loss'], label='train loss')\n",
    "    plt.plot(hist['epoch'], hist['val_loss'], label='val loss')\n",
    "    plt.legend()\n",
    "\n",
    "    plt.subplot(1,2,2)\n",
    "    plt.xlabel('epoch')\n",
    "    plt.ylabel('accuracy')\n",
    "    plt.plot(hist['epoch'], hist['accuracy'], label='train accuracy')\n",
    "    plt.plot(hist['epoch'], hist['val_accuracy'], label='val accuracy')\n",
    "    plt.legend()\n",
    "\n",
    "    plt.show()\n",
    "\n",
    "plot_history(history)"
   ]
  },
  {
   "cell_type": "markdown",
   "metadata": {},
   "source": [
    "### Eval\n",
    "\n",
    "- test data scaling, reshape\n",
    "- one hot encoding"
   ]
  },
  {
   "cell_type": "code",
   "execution_count": 57,
   "metadata": {},
   "outputs": [],
   "source": [
    "X_test_s = X_test.astype('float32')/255.\n",
    "y_test_o = to_categorical(y_test)"
   ]
  },
  {
   "cell_type": "code",
   "execution_count": 59,
   "metadata": {},
   "outputs": [
    {
     "data": {
      "text/plain": [
       "(1.0, 0.0)"
      ]
     },
     "execution_count": 59,
     "metadata": {},
     "output_type": "execute_result"
    }
   ],
   "source": [
    "np.max(X_test_s), np.min(X_test_s)"
   ]
  },
  {
   "cell_type": "code",
   "execution_count": 60,
   "metadata": {},
   "outputs": [
    {
     "data": {
      "text/plain": [
       "array([[0., 0., 0., 0., 0., 0., 0., 1., 0., 0.],\n",
       "       [0., 0., 1., 0., 0., 0., 0., 0., 0., 0.],\n",
       "       [0., 1., 0., 0., 0., 0., 0., 0., 0., 0.],\n",
       "       [1., 0., 0., 0., 0., 0., 0., 0., 0., 0.],\n",
       "       [0., 0., 0., 0., 1., 0., 0., 0., 0., 0.]], dtype=float32)"
      ]
     },
     "execution_count": 60,
     "metadata": {},
     "output_type": "execute_result"
    }
   ],
   "source": [
    "y_test_o[:5]"
   ]
  },
  {
   "cell_type": "code",
   "execution_count": 62,
   "metadata": {},
   "outputs": [
    {
     "name": "stdout",
     "output_type": "stream",
     "text": [
      "(10000, 28, 28)\n",
      "(10000, 784)\n"
     ]
    }
   ],
   "source": [
    "print(X_test_s.shape)\n",
    "X_test_s = X_test_s.reshape(-1, 28*28)\n",
    "print(X_test_s.shape)"
   ]
  },
  {
   "cell_type": "markdown",
   "metadata": {},
   "source": [
    "### Pred"
   ]
  },
  {
   "cell_type": "code",
   "execution_count": 63,
   "metadata": {},
   "outputs": [
    {
     "name": "stdout",
     "output_type": "stream",
     "text": [
      "313/313 [==============================] - 0s 786us/step\n"
     ]
    },
    {
     "data": {
      "text/plain": [
       "array([[2.1334154e-09, 5.9820827e-08, 1.5269658e-08, 1.0751028e-06,\n",
       "        3.9344087e-08, 5.4848833e-08, 2.0540876e-11, 9.9994302e-01,\n",
       "        1.6923640e-07, 5.5531513e-05],\n",
       "       [1.6750935e-08, 1.4112774e-05, 9.9997342e-01, 1.2332141e-05,\n",
       "        5.8497436e-11, 3.4901199e-10, 1.9609223e-10, 1.0277478e-09,\n",
       "        6.8867124e-08, 1.8132603e-09],\n",
       "       [4.5305815e-06, 9.9976891e-01, 3.6943291e-07, 1.4795211e-06,\n",
       "        6.7386121e-05, 1.1019787e-04, 2.0959988e-07, 1.2801250e-05,\n",
       "        2.8803172e-05, 5.2808591e-06],\n",
       "       [9.9940085e-01, 2.8871838e-07, 4.8711270e-04, 2.2013492e-06,\n",
       "        4.0378382e-08, 1.6090932e-07, 6.6424705e-05, 1.9171903e-05,\n",
       "        3.0076283e-06, 2.0789977e-05],\n",
       "       [3.5465915e-11, 2.8981879e-07, 6.2878758e-10, 1.7243023e-07,\n",
       "        9.9897194e-01, 8.7965169e-08, 2.0097944e-10, 1.5914136e-06,\n",
       "        1.6081516e-06, 1.0242469e-03]], dtype=float32)"
      ]
     },
     "execution_count": 63,
     "metadata": {},
     "output_type": "execute_result"
    }
   ],
   "source": [
    "y_pred = model.predict(X_test_s)\n",
    "y_pred[:5]"
   ]
  },
  {
   "cell_type": "code",
   "execution_count": 64,
   "metadata": {},
   "outputs": [
    {
     "data": {
      "text/plain": [
       "(10000, 10)"
      ]
     },
     "execution_count": 64,
     "metadata": {},
     "output_type": "execute_result"
    }
   ],
   "source": [
    "y_pred.shape"
   ]
  },
  {
   "cell_type": "code",
   "execution_count": 71,
   "metadata": {},
   "outputs": [
    {
     "data": {
      "text/plain": [
       "array([7, 2, 1, 0, 4, 1, 4, 9, 5, 9, 0, 6, 9, 0, 1, 5, 9, 7, 3, 4],\n",
       "      dtype=int64)"
      ]
     },
     "execution_count": 71,
     "metadata": {},
     "output_type": "execute_result"
    }
   ],
   "source": [
    "y_pred_max = np.argmax(y_pred, axis=1)\n",
    "y_pred_max[:20]"
   ]
  },
  {
   "cell_type": "code",
   "execution_count": 76,
   "metadata": {},
   "outputs": [
    {
     "name": "stdout",
     "output_type": "stream",
     "text": [
      "0.9694\n",
      "0.9692418781407678\n"
     ]
    }
   ],
   "source": [
    "from sklearn.metrics import accuracy_score, f1_score\n",
    "\n",
    "print(accuracy_score(y_test, y_pred_max))\n",
    "print(f1_score(y_test, y_pred_max, average='macro'))"
   ]
  },
  {
   "cell_type": "markdown",
   "metadata": {},
   "source": [
    "### Check Wrong"
   ]
  },
  {
   "cell_type": "code",
   "execution_count": 78,
   "metadata": {},
   "outputs": [
    {
     "data": {
      "text/plain": [
       "array([3597, 5600, 3115, 4269, 1938, 2099,  115,  760, 9755], dtype=int64)"
      ]
     },
     "execution_count": 78,
     "metadata": {},
     "output_type": "execute_result"
    }
   ],
   "source": [
    "wrong_samples = np.where(y_test != y_pred_max)[0]\n",
    "wrong_samples = np.random.choice(wrong_samples, size=9)\n",
    "\n",
    "wrong_samples"
   ]
  },
  {
   "cell_type": "code",
   "execution_count": 79,
   "metadata": {},
   "outputs": [
    {
     "data": {
      "image/png": "[encoded data removed]",
      "text/plain": [
       "<Figure size 800x800 with 9 Axes>"
      ]
     },
     "metadata": {},
     "output_type": "display_data"
    }
   ],
   "source": [
    "plt.figure(figsize = (8, 8))    # size는 inch\n",
    "for i, idx in enumerate(wrong_samples):\n",
    "    plt.subplot(3, 3, i+1)      # matplotlib의 첫번째는 1\n",
    "    plt.imshow(X_test[idx], cmap='gray')\n",
    "    plt.axis('off')\n",
    "    plt.title(f'{y_test[idx]}, pred : {y_pred_max[idx]}')\n",
    "plt.show()"
   ]
  },
  {
   "cell_type": "markdown",
   "metadata": {},
   "source": [
    "### Model Save"
   ]
  },
  {
   "cell_type": "code",
   "execution_count": 81,
   "metadata": {},
   "outputs": [],
   "source": [
    "model.save('nn-mnist-28x28-97.keras')       # option 1(single file)"
   ]
  },
  {
   "cell_type": "code",
   "execution_count": 82,
   "metadata": {},
   "outputs": [
    {
     "name": "stdout",
     "output_type": "stream",
     "text": [
      "INFO:tensorflow:Assets written to: models\\assets\n"
     ]
    },
    {
     "name": "stderr",
     "output_type": "stream",
     "text": [
      "INFO:tensorflow:Assets written to: models\\assets\n"
     ]
    }
   ],
   "source": [
    "model.save('models')                        # option 2(make directory)"
   ]
  },
  {
   "cell_type": "markdown",
   "metadata": {},
   "source": [
    "### Model Load"
   ]
  },
  {
   "cell_type": "code",
   "execution_count": 85,
   "metadata": {},
   "outputs": [],
   "source": [
    "loaded_model = keras.models.load_model('nn-mnist-28x28-97.keras')"
   ]
  },
  {
   "cell_type": "code",
   "execution_count": 87,
   "metadata": {},
   "outputs": [
    {
     "name": "stdout",
     "output_type": "stream",
     "text": [
      "Model: \"sequential_2\"\n",
      "_________________________________________________________________\n",
      " Layer (type)                Output Shape              Param #   \n",
      "=================================================================\n",
      " dense_8 (Dense)             (None, 64)                50240     \n",
      "                                                                 \n",
      " dense_9 (Dense)             (None, 32)                2080      \n",
      "                                                                 \n",
      " dense_10 (Dense)            (None, 16)                528       \n",
      "                                                                 \n",
      " dense_11 (Dense)            (None, 10)                170       \n",
      "                                                                 \n",
      "=================================================================\n",
      "Total params: 53018 (207.10 KB)\n",
      "Trainable params: 53018 (207.10 KB)\n",
      "Non-trainable params: 0 (0.00 Byte)\n",
      "_________________________________________________________________\n"
     ]
    }
   ],
   "source": [
    "loaded_model.summary()"
   ]
  }
 ],
 "metadata": {
  "kernelspec": {
   "display_name": "base",
   "language": "python",
   "name": "python3"
  },
  "language_info": {
   "codemirror_mode": {
    "name": "ipython",
    "version": 3
   },
   "file_extension": ".py",
   "mimetype": "text/x-python",
   "name": "python",
   "nbconvert_exporter": "python",
   "pygments_lexer": "ipython3",
   "version": "3.11.5"
  }
 },
 "nbformat": 4,
 "nbformat_minor": 2
}
