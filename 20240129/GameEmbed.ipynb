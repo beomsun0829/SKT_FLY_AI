{
  "cells": [
    {
      "cell_type": "code",
      "execution_count": 1,
      "metadata": {
        "id": "KT7Ltx_mG4Be"
      },
      "outputs": [],
      "source": [
        "from konlpy.tag import Okt # 트위터 한국어 처리기 - 일상 생활에 등장하는 단어에 유용\n",
        "from konlpy.tag import Komoran"
      ]
    },
    {
      "cell_type": "code",
      "execution_count": 3,
      "metadata": {
        "id": "dqUr7TA_qUvR"
      },
      "outputs": [],
      "source": [
        "import json\n",
        "\n",
        "def open_json(file_path):\n",
        "    with open(file_path, 'r') as file:\n",
        "        data = json.load(file)\n",
        "    return data"
      ]
    },
    {
      "cell_type": "code",
      "execution_count": 4,
      "metadata": {
        "colab": {
          "base_uri": "https://localhost:8080/"
        },
        "id": "EmUj7uWiwQwm",
        "outputId": "6019b8dd-699a-41b9-fa59-61dfbe1ff960"
      },
      "outputs": [
        {
          "name": "stdout",
          "output_type": "stream",
          "text": [
            "1) 말뭉치 데이터 읽기 시작\n",
            "863\n",
            "1) 말뭉치 데이터 읽기 완료:  0.02299952507019043\n"
          ]
        }
      ],
      "source": [
        "from gensim.models import Word2Vec\n",
        "from konlpy.tag import Komoran\n",
        "import time\n",
        "\n",
        "# 측정 시작\n",
        "start = time.time()\n",
        "\n",
        "# 리뷰 파일 읽어오기\n",
        "print('1) 말뭉치 데이터 읽기 시작')\n",
        "train = open_json(\"train_game.json\")\n",
        "print(len(train)) # 리뷰 데이터 전체 개수\n",
        "print('1) 말뭉치 데이터 읽기 완료: ', time.time() - start)"
      ]
    },
    {
      "cell_type": "code",
      "execution_count": 5,
      "metadata": {
        "colab": {
          "base_uri": "https://localhost:8080/"
        },
        "id": "OvfwlHhO1E8W",
        "outputId": "c6d02e86-b569-4bc6-f52b-554eaea64dc9"
      },
      "outputs": [
        {
          "data": {
            "text/plain": [
              "{'id': 2518043,\n",
              " 'sentence': '퀘스트 사냥꾼은 대체로 컨트롤 성향 덱에 더 강한 모습을 보이나, 컨트롤 성기사엔 조금 약하며 나가 악마사냥꾼에도 다소 밀리는 편이다.',\n",
              " 'tokens': [{'start': 0,\n",
              "   'length': 7,\n",
              "   'sub': '퀘스트 사냥꾼',\n",
              "   'facet': '직업',\n",
              "   'term_id': 336714,\n",
              "   'sense_no': 1}],\n",
              " 'sense_no': 1,\n",
              " 'source': {'uri': 'https://www.inven.co.kr/webzine/news/?news=271351&site=hs',\n",
              "  'text': '지난 4월 27일 23.0.3 패치로 높은 승률을 보이던 카드가 일부 조정되었다. 가장 큰 조정을 받은 직업은 드루이드로, [기적같은 성장]의 비용이 1 늘고 [카자쿠산]의 조건이 이 게임에서 다른 용족을 넷 냈다면 보물 더미 덱을 만드는 것으로 바뀌었다.\\n또한 전 퀘스트 [항구 습격]의 세 번째 단계까 해적을 셋 내야 하는 것으로 바뀌어 속도가 늦춰지고, [복어주먹]은 생명력이 1 줄었다. \\n램프 드루이드의 버티기 및 덱 구성이 어려워지고 퀘스트 전사의 속도가 줄어들며 여러 덱이 상위로 올라왔다. 특히 나가 악마사냥꾼이 가장 좋은 모습을 보여주고 있으며 이에 맞춰 컨트롤 전사와 컨트롤 성기사, 퀘스트 사냥꾼도 좋은 덱으로 꼽히고 있다. \\n나가 악마사냥꾼\\n빠르게 몰아치는 강력한 어그로 유형\\n[흉포한 갈퀴창날][보물 경비병] 등 나가를 쓰는 어그로 유형의 악마사냥꾼이 메타의 새로운 중심이 되었다. 지난 23.0.3 패치에서 [복어주먹]의 생명력이 1 줄어든 것 외에는 너프가 없었고, 여기에 강력했던 드루이드의 버티기 능력이 약화되어 악마사냥꾼의 승률이 올랐다.\\n1마나 1/3이며 명예로운 일격으로 적 영웅에게 내 영웅의 공격력만큼 피해를 주는 무기 [공포감옥 전투검]이 초반부터 상대의 명치를 위협하는데, [분노][연속 타격][혼돈의 일격]과 같은 영웅 공격력 획득 카드로 조건을 조절하기 쉬운 편이다.\\n또한 이러한 주문 카드들은 주문 시전 후 내 다음 턴까지 공격력 +1을 얻는 [흉포한 갈퀴창날]과도 좋은 궁합을 보이고 있으며, [여군주 스테노]와도 함께 사용하기 좋다. \\n사용하는 하수인의 비용이 전부 4보다 낮으므로 [드렉타르]를 내서 필드를 전개할 수 있는데, 초반부터 몰아친 후 [드렉타르]로 하수인 3마리를 전개하면 승기를 굳히기 좋다. 마무리로는 [악마분쇄자 쿨트러스]를 활용한다. \\n현재 대부분의 덱 상대로 강력하나, 컨트롤 기사나 컨트롤 전사에 대한 승률이 비교적 낮은 편이다. 그래도 평균 플레이 타임이 짧고 운용 난이도가 어렵지 않아 현재 등반용으로 가장 권장되는 덱이다. \\n※ 나가 악마사냥꾼 덱 코드\\n[인벤 덱 시뮬레이터 바로가기]Steelo 나가 악마사냥꾼\\n드루이드\\n너프의 영향을 크게 받았으나, 컨트롤 덱 상대로 여전히 준수\\n드루이드는 버티기 용도로 강력하던 [기적같은 성장]이 1마나 늘어나는 너프를 받고, 마무리를 책임지던 [카자쿠산]이 다른 용족을 4번 내는 조건으로 변경되어 가장 직접적인 하향이 이뤄졌다. \\n그 결과로 상성이 거의 없던 이전에 비해 어그로 덱 상대로는 확실히 약해진 모습을 보이고 있으며, 이외에도 다소 승률이 줄어들었다. \\n너프에 대응하기 위해 여러 가지 커스텀이 진행되고 있는데, [카자쿠산]을 포기하고 [브란 브론즈비어드][생명의 어머니 알렉스트라자][고르곤 졸라] 콤보를 마무리로 넣거나, 아니면 모든 종족값을 가진 [심해의 융합체]를 사용해 [오닉시아 비늘]이나 [공격대 우두머리 오닉시아]로 용족을 추가로 발견해 조건을 채우곤 한다. \\n그리고 아나콘드라 드루이드도 채용 빈도가 늘고 있다. [천체의 정렬]이후 [여군주 아나콘드라]의 비용 감소를 최대한으로 활용해 이득을 보며, 마무리는 마찬가지로 [심해의 융합체]로 조건을 만족시킨 [카자쿠산]이다. \\n드루이드는 현재 컨트롤 성향의 덱에는 좋은 모습을 보여주고 있으나, 어떤 구성이건 어그로에는 취약한 편이다. \\n※ 아나콘드라 드루이드 덱 코드\\n[인벤 덱 시뮬레이터 바로가기] 양봉꾼 아나콘드라 드루이드\\n컨트롤 전사\\n불꽃벼림으로 강력해진 드로우\\n초반에도 어그로를 잘 틀어막으며, 후반 뒷심도 충분히 갖춘 컨트롤 전사가 현 메타에서 좋은 모습을 보여주고 있다. \\n특히 무기를 파괴하고 그 무기의 공격력만큼 카드를 뽑는 [불꽃벼림]이 좋은 드로우 수단으로 사용되고 있는데, 내 영웅이 공격하여 하수인을 처치한 후 카드를 뽑는 [척후병의 도끼]를 2번 사용한 후 마지막에 부숴서 3장을 더 뽑을 수 있으며, [용맹한 로카라]로 장착되는 [단호의 철퇴]로도 5장 드로우가 되는 강점이 있다. \\n[깊은 바다 속 존재]로 내 덱 맨 아래 카드 5장의 비용을 3씩 줄이고 인양하며 덱을 유연하게 운영할 수 있고, [얼어붙은 버클러][방패 올리기][원한]로 방어도를 쌓고 [방패 분쇄]나 [오닉시아의 비룡]으로 필드를 쉽게 정리할 수 있다. \\n뒷심으로는 [오닉시아의 비룡][심해의 융합체]로 조건을 만족시킨 [카자쿠산]을 사용하고 있다. 인기 있는 덱인 나가 악마사냥꾼 상대로 좋은 승률을 보이고 있으나 기계 성기사, 조개 사제에는 약한 편이다.\\n※ 컨트롤 전사 덱 코드\\n[인벤 덱 시뮬레이터 바로가기] Meati 컨트롤 전사\\n컨트롤 성기사\\n나가 악마사냥꾼 상대로 강력\\n[천상의 김밥]과 [성전사 카리엘]을 필두로한 컨트롤 성기사가 부상했다. \\n필드를 정리하고 버틸 수단이 많은 것이 특징인데, 모든 하수인의 생명력을 1로 바꾸는 [평등]과 함께 [도시세] 또는 [검귀 사무로]를 사용할 수 있으며, [정의의 방어]로 상대의 강력한 하수인을 1/1로 만들고 손에 있는 하수인을 버프할 수도 있다. \\n도발 능력이 있는 1/2, 2/4, 4/8 하수인을 소환하는 [영생하는 석상] 또한 버티기에 좋으며 [성전사 카리엘] 전투의 함성으로 장착, 받는 피해를 절반으로 감소시키는 [불굴의 방패]가 강력한 뒷심을 제공한다. \\n[불굴의 방패]가 있으면 생명력 회복의 효율이 크게 오르며, 생명력을 2 회복시키고 이번 턴에 반복할 수 있는 1마나 주문 [천상의 김밥]과 잘 어울린다. \\n여기에 김밥은 주문을 시전한 후 모든 하수인에게 피해를 1 주는 [광기의 화염술사]와 연계하면 필드 정리 주문으로 쓸 수도 있으며 [고통의 수행사제]까지 내어 드로우를 볼 수도 있다.\\n또한 컨트롤 성기사 유형은 버티는 과정에서 [검귀 오카니][걸신들린 무타누스]로 상대의 손을 견제하는 컨트롤이 가능한 것도 특징이다. \\n마무리는 손에서 충분히 버프한 [스마이트 씨]로 이뤄진다. [정의의 방어][성전사 카리엘]의 영웅 능력으로 계속해서 버프를 쌓아 돌진 능력으로 마무리하는 식이다. \\n하수인에게 +5/+5와 천상의 보호막을 부여하는 [정원의 은총]도 사용하는데, 10마나 주문이지만 이번 게임에서 신성 주문에 소모한 마나만큼 비용이 감소하므로 신성 주문인 [평등][천상의 김밥][영생하는 석상]과 쉽게 연계가 된다.\\n나가 악마사냥꾼, 램프 드루이드 등에 무난히 좋은 모습을 보여주고 있으나, 퀘스트 전사에 약한 모습을 보여주고 있으며 [걸신들린 무타누스]로 [스마이트 씨]를 제거당하거나 [녹부식 독사]로 [불굴의 방패]가 저격당하면 힘들어지는 편이다.\\n \\n※ 컨트롤 성기사 덱 코드\\n[인벤 덱 시뮬레이터 바로가기] hsreplay 승률 60.4%, 컨트롤 성기사\\n퀘스트 사냥꾼\\n상대 유형에 따라 승리 플랜을 조정 가능\\n[날카로운 그물][라즈 나즈잔] 추가로 퀘스트 사냥꾼도 좋은 모습을 보여주고 있다. \\n피해를 2 주고 명예로운 일격에 성공하면 다시 내 손으로 가져오는 2마나 주문 [용학살포 발사]가 손패를 덜 마르게 하며, [추적][사나운 울음소리][보물 경비병]으로 추가적인 패수급을 해 주문으로 피해를 줘야 하는 퀘스트 조건을 충족하고 있다. \\n[드렉타르] 역시 잘 사용되고 있다. 덱 압축 및 필드 우위를 가져가며, [라즈 나즈잔]이나 [보물 경비병]을 꺼내올 수 있다면 가장 좋은 상황이 나온다.\\n그리고 영웅 교체 카드 [야수추적자 타비쉬]도 좋은 승리 수단이다. 퀘스트의 영웅 능력 비용 감소, 주문 사용 후 영웅 능력 재사용 가능 효과와 함께 시너지를 내어 주문을 쓰며 필드를 쉽게 불릴 수 있게 된다.\\n다만 [야수추적자 타비쉬]의 경우 사용할 때 상황 판단과 순서가 중요하다.\\n우선 어그로 성향 덱 상대이거나 또는 손패의 주문을 통해 주문-영능 콤보로 상대를 충분히 죽일 수 있으면 변신하지 않는 편이다. 컨트롤 성향 덱 상대라면 대부분 주문-영웅 능력의 번 딜만으론 죽이기 힘드므로 변신해서 주문과 함께 필드를 불려 누적딜로 승부하는 식이다.\\n주의할 점으로, 퀘스트를 다 깨고 타비쉬를 내면 영능이 2코로 증가해버리는 문제가 생기므로 [야수추적자 타비쉬]는 2번째 퀘스트를 깨기 전에 미리 내 둬야 한다.\\n퀘스트 사냥꾼은 대체로 컨트롤 성향 덱에 더 강한 모습을 보이나, 컨트롤 성기사엔 조금 약하며 나가 악마사냥꾼에도 다소 밀리는 편이다.\\n※ 퀘스트 사냥꾼 덱 코드\\n[인벤 덱 시뮬레이터 바로가기] katagami 퀘스트 사냥꾼',\n",
              "  'written_at': '2022-05-02T16:48:22'}}"
            ]
          },
          "execution_count": 5,
          "metadata": {},
          "output_type": "execute_result"
        }
      ],
      "source": [
        "train[0]"
      ]
    },
    {
      "cell_type": "code",
      "execution_count": 7,
      "metadata": {
        "colab": {
          "base_uri": "https://localhost:8080/"
        },
        "id": "eAKq4KJu1AL8",
        "outputId": "d570ed7d-646a-4c45-e1ae-10115eaada1d"
      },
      "outputs": [
        {
          "name": "stdout",
          "output_type": "stream",
          "text": [
            "2) 형태소에서 명사만 추출 시작\n",
            "2) 형태소에서 명사만 추출 완료:  11.982598304748535\n"
          ]
        }
      ],
      "source": [
        "# 문장단위로 명사만 추출해 학습 입력 데이터로 만듬\n",
        "print('2) 형태소에서 명사만 추출 시작')\n",
        "komoran = Komoran()\n",
        "docs = [komoran.nouns(sentence[\"sentence\"]) for sentence in train]\n",
        "print('2) 형태소에서 명사만 추출 완료: ', time.time() - start)"
      ]
    },
    {
      "cell_type": "code",
      "execution_count": 13,
      "metadata": {},
      "outputs": [
        {
          "name": "stdout",
          "output_type": "stream",
          "text": [
            "['퀘스트', '사냥', '컨트롤', '성향', '모습', '컨트롤', '성기사', '악마', '사냥', '편']\n"
          ]
        }
      ],
      "source": [
        "print(docs[0])"
      ]
    },
    {
      "cell_type": "code",
      "execution_count": 8,
      "metadata": {
        "colab": {
          "base_uri": "https://localhost:8080/"
        },
        "id": "0YZtlTsq1MQr",
        "outputId": "32a6be73-78a9-4c0f-e2e0-78c7dae879fe"
      },
      "outputs": [
        {
          "name": "stdout",
          "output_type": "stream",
          "text": [
            "3) word2vec 모델 학습 시작\n",
            "3) word2vec 모델 학습 완료:  14.454477071762085\n"
          ]
        }
      ],
      "source": [
        "# word2vec 모델 학습\n",
        "print('3) word2vec 모델 학습 시작')\n",
        "model = Word2Vec(sentences=docs, vector_size=200, window=4, min_count=2, sg=1) # skip-gram\n",
        "print('3) word2vec 모델 학습 완료: ', time.time() - start)"
      ]
    },
    {
      "cell_type": "code",
      "execution_count": null,
      "metadata": {
        "colab": {
          "base_uri": "https://localhost:8080/"
        },
        "id": "SQIyYyOX1hyH",
        "outputId": "3801135e-9c9a-45f8-8c67-c4ef55b6f4ab"
      },
      "outputs": [
        {
          "name": "stdout",
          "output_type": "stream",
          "text": [
            "4) 학습된 모델 저장 시작\n",
            "4) 학습된 모델 저장 완료:  20.752155780792236\n",
            "corpus_count :  863\n",
            "corpus_total_words :  7576\n"
          ]
        }
      ],
      "source": [
        "# 모델 저장\n",
        "print('4) 학습된 모델 저장 시작')\n",
        "# model.save('nvmc.model')\n",
        "print('4) 학습된 모델 저장 완료: ', time.time() - start)\n",
        "\n",
        "# 학습된 말뭉치 개수, 코퍼스 내 전체 단어 개수\n",
        "print(\"corpus_count : \", model.corpus_count)\n",
        "print(\"corpus_total_words : \", model.corpus_total_words)"
      ]
    },
    {
      "cell_type": "code",
      "execution_count": null,
      "metadata": {
        "colab": {
          "base_uri": "https://localhost:8080/"
        },
        "id": "L8y7CFlN2S-B",
        "outputId": "c7b5d311-b7a1-441d-c8dc-5940daf9d43b"
      },
      "outputs": [
        {
          "name": "stdout",
          "output_type": "stream",
          "text": [
            "corpus_total_words :  7576\n"
          ]
        }
      ],
      "source": [
        "# 모델 로딩\n",
        "# model = Word2Vec.load('nvmc.model')\n",
        "print(\"corpus_total_words : \", model.corpus_total_words)"
      ]
    },
    {
      "cell_type": "code",
      "execution_count": 16,
      "metadata": {
        "colab": {
          "base_uri": "https://localhost:8080/"
        },
        "id": "hRRNA_Jj26RI",
        "outputId": "84e35bb1-b633-4c65-ea6b-fb2a85ee2be6"
      },
      "outputs": [
        {
          "name": "stdout",
          "output_type": "stream",
          "text": [
            "[('때', 0.74336177110672), ('거', 0.724134087562561), ('것', 0.7167823910713196), ('스키', 0.7071779370307922), ('수', 0.69302898645401)]\n",
            "[('드', 0.6120314002037048), ('거', 0.610780656337738), ('때', 0.6032494902610779), ('수', 0.6031776666641235), ('쿠', 0.6013575196266174)]\n"
          ]
        }
      ],
      "source": [
        "# 가장 유사한 단어 추출\n",
        "print(model.wv.most_similar(\"카드\", topn=5))\n",
        "print(model.wv.most_similar(\"사냥\", topn=5))"
      ]
    },
    {
      "cell_type": "code",
      "execution_count": null,
      "metadata": {
        "id": "a_yVFSxD37tB"
      },
      "outputs": [],
      "source": []
    }
  ],
  "metadata": {
    "colab": {
      "provenance": []
    },
    "kernelspec": {
      "display_name": "Python 3",
      "name": "python3"
    },
    "language_info": {
      "codemirror_mode": {
        "name": "ipython",
        "version": 3
      },
      "file_extension": ".py",
      "mimetype": "text/x-python",
      "name": "python",
      "nbconvert_exporter": "python",
      "pygments_lexer": "ipython3",
      "version": "3.9.0"
    }
  },
  "nbformat": 4,
  "nbformat_minor": 0
}
