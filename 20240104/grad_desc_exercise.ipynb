{
 "cells": [
  {
   "cell_type": "code",
   "execution_count": 179,
   "metadata": {},
   "outputs": [],
   "source": [
    "import torch\n",
    "from torch.autograd import Variable\n",
    "import math"
   ]
  },
  {
   "cell_type": "code",
   "execution_count": 180,
   "metadata": {},
   "outputs": [],
   "source": [
    "def f(x,y):\n",
    "    return 2*(x**2) + y**2 + torch.exp(4*x*y)"
   ]
  },
  {
   "cell_type": "code",
   "execution_count": 181,
   "metadata": {},
   "outputs": [],
   "source": [
    "x = Variable(torch.tensor(1., dtype=torch.float32), requires_grad=True)\n",
    "y = Variable(torch.tensor(1., dtype=torch.float32), requires_grad=True)"
   ]
  },
  {
   "cell_type": "code",
   "execution_count": 182,
   "metadata": {},
   "outputs": [],
   "source": [
    "optimizer = torch.optim.Adam([x,y], lr=0.01)"
   ]
  },
  {
   "cell_type": "code",
   "execution_count": 183,
   "metadata": {},
   "outputs": [
    {
     "name": "stdout",
     "output_type": "stream",
     "text": [
      "Epoch: 0, Loss: 57.598148345947266\n",
      "Epoch: 100, Loss: 4.461231231689453\n",
      "Epoch: 200, Loss: 2.4918599128723145\n",
      "Epoch: 300, Loss: 1.7489620447158813\n",
      "Epoch: 400, Loss: 1.3855748176574707\n",
      "Epoch: 500, Loss: 1.193682074546814\n",
      "Epoch: 600, Loss: 1.0916073322296143\n",
      "Epoch: 700, Loss: 1.0387204885482788\n",
      "Epoch: 800, Loss: 1.0124225616455078\n",
      "Epoch: 900, Loss: 0.9998133182525635\n"
     ]
    }
   ],
   "source": [
    "#gradient descent\n",
    "\n",
    "EPOCHS = 1000\n",
    "for epoch in range(EPOCHS):\n",
    "    loss = f(x,y)\n",
    "    \n",
    "    optimizer.zero_grad()\n",
    "    loss.backward()\n",
    "    optimizer.step()\n",
    "\n",
    "    if epoch % 100 == 0:\n",
    "        print(\"Epoch: {}, Loss: {}\".format(epoch, loss.item()))"
   ]
  },
  {
   "cell_type": "code",
   "execution_count": 184,
   "metadata": {},
   "outputs": [
    {
     "name": "stdout",
     "output_type": "stream",
     "text": [
      "Minimum at x=-0.05789320543408394, y=0.1225501224398613\n"
     ]
    }
   ],
   "source": [
    "print(f\"Minimum at x={x.item()}, y={y.item()}\")"
   ]
  },
  {
   "cell_type": "code",
   "execution_count": null,
   "metadata": {},
   "outputs": [],
   "source": []
  }
 ],
 "metadata": {
  "kernelspec": {
   "display_name": "base",
   "language": "python",
   "name": "python3"
  },
  "language_info": {
   "codemirror_mode": {
    "name": "ipython",
    "version": 3
   },
   "file_extension": ".py",
   "mimetype": "text/x-python",
   "name": "python",
   "nbconvert_exporter": "python",
   "pygments_lexer": "ipython3",
   "version": "3.11.5"
  }
 },
 "nbformat": 4,
 "nbformat_minor": 2
}
