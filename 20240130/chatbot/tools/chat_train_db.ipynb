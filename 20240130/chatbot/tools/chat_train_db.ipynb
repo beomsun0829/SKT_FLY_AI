{
 "cells": [
  {
   "cell_type": "code",
   "execution_count": 18,
   "metadata": {},
   "outputs": [],
   "source": [
    "import pymysql\n",
    "import sys\n",
    "from config.DatabaseConfig import *"
   ]
  },
  {
   "cell_type": "code",
   "execution_count": 19,
   "metadata": {},
   "outputs": [
    {
     "name": "stdout",
     "output_type": "stream",
     "text": [
      "Database version : 8.0.35 \n",
      "Database connected successfully\n"
     ]
    }
   ],
   "source": [
    "db = None\n",
    "try:\n",
    "    db = pymysql.connect(host=DB_HOST, user=DB_USER, password=DB_PASSWORD, db=DB_NAME, charset='utf8')\n",
    "    cursor = db.cursor()\n",
    "    cursor.execute(\"SELECT VERSION()\")  \n",
    "    data = cursor.fetchone()\n",
    "    print(\"Database version : %s \" % data)\n",
    "    print(\"Database connected successfully\")\n",
    "    \n",
    "except Exception as e:\n",
    "    print(\"Exception occured:{}\".format(e))"
   ]
  },
  {
   "cell_type": "code",
   "execution_count": 20,
   "metadata": {},
   "outputs": [],
   "source": [
    "def create_table():\n",
    "    try:\n",
    "        sql = '''\n",
    "        CREATE TABLE IF NOT EXISTS `train` (\n",
    "            id INT UNSIGNED NOT NULL AUTO_INCREMENT,\n",
    "            intent VARCHAR(45) NULL,\n",
    "            ner VARCHAR(1024) NULL,\n",
    "            query TEXT NULL,\n",
    "            answer TEXT NOT NULL,\n",
    "            answer_image VARCHAR(2048) NULL,\n",
    "            PRIMARY KEY (id)\n",
    "        )\n",
    "        '''\n",
    "        \n",
    "        with db.cursor() as cursor:\n",
    "            cursor.execute(sql)\n",
    "    \n",
    "    except Exception as e:\n",
    "        print(\"Exception occured:{}\".format(e))"
   ]
  },
  {
   "cell_type": "code",
   "execution_count": 21,
   "metadata": {},
   "outputs": [],
   "source": [
    "create_table()"
   ]
  },
  {
   "cell_type": "code",
   "execution_count": 22,
   "metadata": {},
   "outputs": [],
   "source": [
    "def all_clear_train_data(db):\n",
    "    # 기존 학습 데이터 삭제\n",
    "    sql = '''\n",
    "            delete from train\n",
    "        '''\n",
    "    with db.cursor() as cursor:\n",
    "        cursor.execute(sql)\n",
    "\n",
    "    # auto increment 초기화\n",
    "    sql = '''\n",
    "    ALTER TABLE train AUTO_INCREMENT=1\n",
    "    '''\n",
    "    with db.cursor() as cursor:\n",
    "        cursor.execute(sql)"
   ]
  },
  {
   "cell_type": "code",
   "execution_count": 23,
   "metadata": {},
   "outputs": [],
   "source": [
    "all_clear_train_data(db)"
   ]
  },
  {
   "cell_type": "code",
   "execution_count": 24,
   "metadata": {},
   "outputs": [],
   "source": [
    "# db에 데이터 저장\n",
    "def insert_data(db, xls_row):\n",
    "    intent, ner, query, answer, answer_img_url = xls_row\n",
    "\n",
    "    sql = '''\n",
    "        INSERT train(intent, ner, query, answer, answer_image)\n",
    "        values(\n",
    "         '%s', '%s', '%s', '%s', '%s'\n",
    "        )\n",
    "    ''' % (intent.value, ner.value, query.value, answer.value, answer_img_url.value)\n",
    "\n",
    "    # 엑셀에서 불러온 cell에 데이터가 없는 경우, null 로 치환\n",
    "    sql = sql.replace(\"'None'\", \"null\")\n",
    "\n",
    "    with db.cursor() as cursor:\n",
    "        cursor.execute(sql)\n",
    "        print('{} 저장'.format(query.value))\n",
    "        db.commit()"
   ]
  },
  {
   "cell_type": "code",
   "execution_count": 25,
   "metadata": {},
   "outputs": [
    {
     "name": "stdout",
     "output_type": "stream",
     "text": [
      "안녕하세요 저장\n",
      "반가워요 저장\n",
      "{B_FOOD} 주문할게요 저장\n",
      "{B_FOOD} 주문할게요 저장\n",
      "{B_DT} 예약 저장\n",
      "None 저장\n"
     ]
    }
   ],
   "source": [
    "import openpyxl\n",
    "train_file = './train_data.xlsx'\n",
    "db = None\n",
    "try:\n",
    "    db = pymysql.connect(\n",
    "        host=DB_HOST,\n",
    "        user=DB_USER,\n",
    "        passwd=DB_PASSWORD,\n",
    "        db=DB_NAME,\n",
    "        charset='utf8'\n",
    "    )\n",
    "\n",
    "    # 기존 학습 데이터 초기화\n",
    "    all_clear_train_data(db)\n",
    "\n",
    "    # 학습 엑셀 파일 불러오기\n",
    "    wb = openpyxl.load_workbook(train_file)\n",
    "    sheet = wb['Sheet1']\n",
    "    for row in sheet.iter_rows(min_row=2): # 해더는 불러오지 않음\n",
    "        # 데이터 저장\n",
    "        insert_data(db, row)\n",
    "\n",
    "    wb.close()\n",
    "\n",
    "except Exception as e:\n",
    "    print(e)\n",
    "\n",
    "finally:\n",
    "    if db is not None:\n",
    "        db.close()"
   ]
  },
  {
   "cell_type": "code",
   "execution_count": null,
   "metadata": {},
   "outputs": [],
   "source": []
  }
 ],
 "metadata": {
  "kernelspec": {
   "display_name": "torch_book",
   "language": "python",
   "name": "python3"
  },
  "language_info": {
   "codemirror_mode": {
    "name": "ipython",
    "version": 3
   },
   "file_extension": ".py",
   "mimetype": "text/x-python",
   "name": "python",
   "nbconvert_exporter": "python",
   "pygments_lexer": "ipython3",
   "version": "3.9.0"
  }
 },
 "nbformat": 4,
 "nbformat_minor": 2
}
